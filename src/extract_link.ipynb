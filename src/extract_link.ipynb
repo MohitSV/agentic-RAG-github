{
 "cells": [
  {
   "attachments": {},
   "cell_type": "markdown",
   "metadata": {},
   "source": [
    "# Pull .md and extract links to add to metadata"
   ]
  },
  {
   "cell_type": "code",
   "execution_count": 16,
   "metadata": {},
   "outputs": [],
   "source": [
    "from llama_index.readers.github import GithubRepositoryReader, GithubClient\n",
    "import os\n",
    "import re"
   ]
  },
  {
   "cell_type": "code",
   "execution_count": 10,
   "metadata": {},
   "outputs": [],
   "source": [
    "import nest_asyncio\n",
    "nest_asyncio.apply()"
   ]
  },
  {
   "cell_type": "code",
   "execution_count": 8,
   "metadata": {},
   "outputs": [],
   "source": [
    "github_token = \"\""
   ]
  },
  {
   "cell_type": "code",
   "execution_count": null,
   "metadata": {},
   "outputs": [],
   "source": [
    "client = github_client = GithubClient(github_token=github_token, verbose=False)\n",
    "\n",
    "reader = GithubRepositoryReader(\n",
    "    github_client=github_client,\n",
    "    owner=\"Infineon\",\n",
    "    repo=\"mtb-example-btsdk-low-power-20819\",\n",
    "    use_parser=False,\n",
    "    verbose=True,\n",
    "    filter_directories=(\n",
    "        [\"deps\", \".gitignore\", \"Makefile\", \"LICENSE\"],\n",
    "        GithubRepositoryReader.FilterType.EXCLUDE,\n",
    "    ),\n",
    "    filter_file_extensions=(\n",
    "        [\n",
    "            \".png\",\n",
    "            \".jpg\",\n",
    "            \".jpeg\",\n",
    "            \".gif\",\n",
    "            \".svg\",\n",
    "            \".ico\",\n",
    "            \"json\",\n",
    "            \".ipynb\",\n",
    "            \".c\",\n",
    "            \".h\",\n",
    "            \".gitignore\",\n",
    "            \".cybt\",\n",
    "            \".mtb\"\n",
    "        ],\n",
    "        GithubRepositoryReader.FilterType.EXCLUDE,\n",
    "    ),\n",
    ")\n",
    "\n",
    "documents = reader.load_data(branch=\"master\")"
   ]
  },
  {
   "cell_type": "code",
   "execution_count": 14,
   "metadata": {},
   "outputs": [
    {
     "name": "stdout",
     "output_type": "stream",
     "text": [
      "{'file_path': 'README.md', 'file_name': 'README.md', 'url': 'https://github.com/Infineon/mtb-example-btsdk-low-power-20819/blob/master/README.md'}\n"
     ]
    }
   ],
   "source": [
    "for doc in documents:\n",
    "    print(doc.metadata)"
   ]
  },
  {
   "cell_type": "code",
   "execution_count": null,
   "metadata": {},
   "outputs": [],
   "source": [
    "documents[0].text\n"
   ]
  },
  {
   "cell_type": "code",
   "execution_count": 20,
   "metadata": {},
   "outputs": [
    {
     "name": "stdout",
     "output_type": "stream",
     "text": [
      "37\n"
     ]
    }
   ],
   "source": [
    "links = re.findall(r'https?://[^\\s)\"]+(?=[)\\s,.\"\\'!])?', documents[0].text)"
   ]
  },
  {
   "cell_type": "code",
   "execution_count": 34,
   "metadata": {},
   "outputs": [
    {
     "name": "stdout",
     "output_type": "stream",
     "text": [
      "Error fetching https://ttssh2.osdn.jp/index.html.en: HTTPSConnectionPool(host='ttssh2.osdn.jp', port=443): Max retries exceeded with url: /index.html.en (Caused by ConnectTimeoutError(<urllib3.connection.HTTPSConnection object at 0x143567100>, 'Connection to ttssh2.osdn.jp timed out. (connect timeout=5)'))\n",
      "PDF found: https://www.infineon.com/ModusToolboxProjectCreator\n",
      "Downloaded PDF: ModusToolboxProjectCreator.pdf\n",
      "PDF found: https://www.infineon.com/ModusToolboxLibraryManager\n",
      "Downloaded PDF: ModusToolboxLibraryManager.pdf\n",
      "Text or webpage found: https://www.infineon.com/cms/en/design-support/software/free-and-open-source-software-foss/>.\n",
      "Text added to array\n",
      "PDF found: https://www.infineon.com/ModusToolboxProjectCreator\n",
      "Downloaded PDF: ModusToolboxProjectCreator.pdf\n",
      "Text or webpage found: https://www.infineon.com/dgdl/Infineon-ModusToolbox_2.4_User_Guide-Software-v01_\n",
      "Text added to array\n"
     ]
    }
   ],
   "source": [
    "import requests\n",
    "text=[]\n",
    "def download_pdf(url, filename):\n",
    "    response = requests.get(url, timeout=5)\n",
    "    with open(f\"{filename}.pdf\", 'wb') as f:\n",
    "        f.write(response.content)\n",
    "    print(f\"Downloaded PDF: {filename}.pdf\")\n",
    "\n",
    "def save_text(url, text_array):\n",
    "    response = requests.get(url, timeout=5)\n",
    "    text.append(response.text)  # Append the text to the array\n",
    "    print(\"Text added to array\")\n",
    "\n",
    "def process_links(links):\n",
    "    for url in links:\n",
    "        try:\n",
    "            response = requests.head(url, allow_redirects=True, timeout=5)  # Use head to get headers\n",
    "            content_type = response.headers.get('Content-Type', '')\n",
    "\n",
    "            if 'pdf' in content_type:\n",
    "                print(f\"PDF found: {url}\")\n",
    "                download_pdf(url, url.split('/')[-1].split('.')[0])  # Save with filename without extension\n",
    "            elif 'text' in content_type or 'html' in content_type:\n",
    "                print(f\"Text or webpage found: {url}\")\n",
    "                save_text(url, url.split('/')[-1].split('.')[0])  # Save with filename without extension\n",
    "            else:\n",
    "                print(f\"Other content type ({content_type}) for URL: {url}\")\n",
    "        except requests.RequestException as e:\n",
    "            print(f\"Error fetching {url}: {e}\")\n",
    "\n",
    "# Example links\n",
    "# links = ['https://example.com/file.pdf', 'https://example.com/page', 'https://example.com/info.txt']\n",
    "links = ['https://ttssh2.osdn.jp/index.html.en', 'https://www.infineon.com/ModusToolboxProjectCreator', 'https://www.infineon.com/ModusToolboxLibraryManager', 'https://www.infineon.com/cms/en/design-support/software/free-and-open-source-software-foss/>.', 'https://www.infineon.com/ModusToolboxProjectCreator', 'https://www.infineon.com/dgdl/Infineon-ModusToolbox_2.4_User_Guide-Software-v01_']\n",
    "\n",
    "process_links(links)\n"
   ]
  },
  {
   "cell_type": "code",
   "execution_count": null,
   "metadata": {},
   "outputs": [],
   "source": [
    "text[1]"
   ]
  },
  {
   "cell_type": "code",
   "execution_count": null,
   "metadata": {},
   "outputs": [],
   "source": [
    "links_main = ['https://ttssh2.osdn.jp/index.html.en', 'https://www.infineon.com/ModusToolboxProjectCreator', 'https://www.infineon.com/ModusToolboxLibraryManager', 'https://www.infineon.com/cms/en/design-support/software/free-and-open-source-software-foss/>.', 'https://www.infineon.com/ModusToolboxProjectCreator', 'https://www.infineon.com/dgdl/Infineon-ModusToolbox_2.4_User_Guide-Software-v01_', 'https://ttssh2.osdn.jp/index.html.en', 'https://www.infineon.com/ModusToolboxProjectCreator', 'https://www.infineon.com/ModusToolboxLibraryManager', 'https://www.infineon.com/cms/en/design-support/software/free-and-open-source-software-foss/>.', 'https://www.infineon.com/ModusToolboxProjectCreator', 'https://www.infineon.com/dgdl/Infineon-ModusToolbox_2.4_User_Guide-Software-v01_', 'https://ttssh2.osdn.jp/index.html.en', 'https://www.infineon.com/ModusToolboxProjectCreator', 'https://www.infineon.com/ModusToolboxLibraryManager', 'https://www.infineon.com/cms/en/design-support/software/free-and-open-source-software-foss/>.', 'https://www.infineon.com/ModusToolboxProjectCreator', 'https://www.infineon.com/dgdl/Infineon-ModusToolbox_2.4_User_Guide-Software-v01_']\n",
    "\n",
    "links_small= ['https://ttssh2.osdn.jp/index.html.en', 'https://www.infineon.com/ModusToolboxProjectCreator', 'https://www.infineon.com/ModusToolboxLibraryManager', 'https://www.infineon.com/cms/en/design-support/software/free-and-open-source-software-foss/>.', 'https://www.infineon.com/ModusToolboxProjectCreator', 'https://www.infineon.com/dgdl/Infineon-ModusToolbox_2.4_User_Guide-Software-v01_']"
   ]
  },
  {
   "cell_type": "code",
   "execution_count": 32,
   "metadata": {},
   "outputs": [
    {
     "name": "stdout",
     "output_type": "stream",
     "text": [
      "ch\n",
      "[('How to deploy an edge system in AWS.', 0.9732275149479189), ('Introduction to edge computing and AWS solutions.', 0.8868563293776737), ('Guide to deploying AWS services effectively.', 0.8532092459198723), ('Using Docker with AWS for seamless deployment.', 0.832225674598413), ('AWS security best practices for developers.', 0.799077206100842)]\n"
     ]
    }
   ],
   "source": [
    "from langchain_openai import OpenAIEmbeddings\n",
    "from sklearn.metrics.pairwise import cosine_similarity\n",
    "import numpy as np\n",
    "# Initialize OpenAI Embeddings\n",
    "embeddings = OpenAIEmbeddings()\n",
    "\n",
    "# Example list of links\n",
    "links = [\n",
    "    \"Guide to deploying AWS services effectively.\",\n",
    "    \"How to deploy an edge system in AWS.\",\n",
    "    \"AWS security best practices for developers.\",\n",
    "    \"Introduction to edge computing and AWS solutions.\",\n",
    "    \"Using Docker with AWS for seamless deployment.\"\n",
    "]\n",
    "\n",
    "# # Embed the links\n",
    "link_embeddings = embeddings.embed_documents(links)\n",
    "print('ch')\n",
    "# Define the query (your question)\n",
    "question = \"How to deploy an edge in AWS?\"\n",
    "\n",
    "# Embed the query\n",
    "query_embedding = embeddings.embed_query(question)\n",
    "\n",
    "# Calculate cosine similarity between the query and all links\n",
    "similarity_scores = cosine_similarity([query_embedding], link_embeddings)[0]\n",
    "\n",
    "# Get the indices of the top 5 most similar links\n",
    "top_5_indices = np.argsort(similarity_scores)[-5:][::-1]\n",
    "\n",
    "# Return the top 5 links\n",
    "top_5_links = [(links[i], similarity_scores[i]) for i in top_5_indices]\n",
    "\n",
    "# Display the best 5 links\n",
    "# for idx, (link, score) in enumerate(top_5_links, 1):\n",
    "#     print(f\"{idx}. {link} (Score: {score:.4f})\")\n",
    "print(top_5_links)"
   ]
  }
 ],
 "metadata": {
  "kernelspec": {
   "display_name": "rag",
   "language": "python",
   "name": "python3"
  },
  "language_info": {
   "codemirror_mode": {
    "name": "ipython",
    "version": 3
   },
   "file_extension": ".py",
   "mimetype": "text/x-python",
   "name": "python",
   "nbconvert_exporter": "python",
   "pygments_lexer": "ipython3",
   "version": "3.10.15 (main, Oct  3 2024, 02:33:33) [Clang 14.0.6 ]"
  },
  "orig_nbformat": 4,
  "vscode": {
   "interpreter": {
    "hash": "516227369de81610d7cd6bf83150c41ea4b76cacb50ce6ec44df1904018ae241"
   }
  }
 },
 "nbformat": 4,
 "nbformat_minor": 2
}
