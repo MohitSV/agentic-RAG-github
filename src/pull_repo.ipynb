{
 "cells": [
  {
   "attachments": {},
   "cell_type": "markdown",
   "metadata": {},
   "source": [
    "# Pull Repo"
   ]
  },
  {
   "cell_type": "code",
   "execution_count": 1,
   "metadata": {},
   "outputs": [],
   "source": [
    "import os\n",
    "# os.environ['GITHUB_TOKEN'] = ''\n",
    "github_token = os.getenv(\"GITHUB_TOKEN\")"
   ]
  },
  {
   "cell_type": "code",
   "execution_count": 4,
   "metadata": {},
   "outputs": [],
   "source": [
    "import nest_asyncio\n",
    "nest_asyncio.apply()"
   ]
  },
  {
   "cell_type": "code",
   "execution_count": 197,
   "metadata": {},
   "outputs": [
    {
     "name": "stdout",
     "output_type": "stream",
     "text": [
      "current path: \n",
      "tree data: GitTreeResponseModel(sha='1544236817d8d39bc023530d5f232efd93040b20', url='https://api.github.com/repos/Infineon/mtb-example-btsdk-low-power-20819/git/trees/1544236817d8d39bc023530d5f232efd93040b20', tree=[GitTreeResponseModel.GitTreeObject(path='.gitignore', mode='100644', type='blob', sha='a053eade2a77ebf0c1e34d65621041247e21af43', url='https://api.github.com/repos/Infineon/mtb-example-btsdk-low-power-20819/git/blobs/a053eade2a77ebf0c1e34d65621041247e21af43', size=2678), GitTreeResponseModel.GitTreeObject(path='LICENSE', mode='100644', type='blob', sha='01d5e5857d76f6eeb507c5e33e2f8b46cf1b4e94', url='https://api.github.com/repos/Infineon/mtb-example-btsdk-low-power-20819/git/blobs/01d5e5857d76f6eeb507c5e33e2f8b46cf1b4e94', size=12551), GitTreeResponseModel.GitTreeObject(path='Makefile', mode='100644', type='blob', sha='25f8678560e357b958ee66db00197b3c21972f91', url='https://api.github.com/repos/Infineon/mtb-example-btsdk-low-power-20819/git/blobs/25f8678560e357b958ee66db00197b3c21972f91', size=6878), GitTreeResponseModel.GitTreeObject(path='README.md', mode='100644', type='blob', sha='99debca3370aa6566f89e4a2ebba904fb08a7048', url='https://api.github.com/repos/Infineon/mtb-example-btsdk-low-power-20819/git/blobs/99debca3370aa6566f89e4a2ebba904fb08a7048', size=31132), GitTreeResponseModel.GitTreeObject(path='app_bt_cfg.c', mode='100644', type='blob', sha='c3570fd0b53e7f41b3588123264d046007c80b71', url='https://api.github.com/repos/Infineon/mtb-example-btsdk-low-power-20819/git/blobs/c3570fd0b53e7f41b3588123264d046007c80b71', size=17185), GitTreeResponseModel.GitTreeObject(path='app_bt_cfg.h', mode='100644', type='blob', sha='5e22220808cfe9f366c02e84f5e2b631c351d2fa', url='https://api.github.com/repos/Infineon/mtb-example-btsdk-low-power-20819/git/blobs/5e22220808cfe9f366c02e84f5e2b631c351d2fa', size=2652), GitTreeResponseModel.GitTreeObject(path='cycfg_bt.cybt', mode='100644', type='blob', sha='0523ac196748565fec4d03486410790c5c86eec8', url='https://api.github.com/repos/Infineon/mtb-example-btsdk-low-power-20819/git/blobs/0523ac196748565fec4d03486410790c5c86eec8', size=11615), GitTreeResponseModel.GitTreeObject(path='deps', mode='040000', type='tree', sha='77000731ef3a848c2626bda3821a93507b84fad4', url='https://api.github.com/repos/Infineon/mtb-example-btsdk-low-power-20819/git/trees/77000731ef3a848c2626bda3821a93507b84fad4', size=None), GitTreeResponseModel.GitTreeObject(path='images', mode='040000', type='tree', sha='20dacb00e228e588f7cff50564e67c6a021053fe', url='https://api.github.com/repos/Infineon/mtb-example-btsdk-low-power-20819/git/trees/20dacb00e228e588f7cff50564e67c6a021053fe', size=None), GitTreeResponseModel.GitTreeObject(path='low_power_20819.c', mode='100644', type='blob', sha='98676ab48dceac09e866c15bd28689745cd86a62', url='https://api.github.com/repos/Infineon/mtb-example-btsdk-low-power-20819/git/blobs/98676ab48dceac09e866c15bd28689745cd86a62', size=10819), GitTreeResponseModel.GitTreeObject(path='low_power_20819.h', mode='100644', type='blob', sha='dbcae1de6e654e1ae9fe45a53c045385a655c529', url='https://api.github.com/repos/Infineon/mtb-example-btsdk-low-power-20819/git/blobs/dbcae1de6e654e1ae9fe45a53c045385a655c529', size=3847), GitTreeResponseModel.GitTreeObject(path='low_power_20819_ble.c', mode='100644', type='blob', sha='5da31512ba0eb416637ad9e2096194843d4fc805', url='https://api.github.com/repos/Infineon/mtb-example-btsdk-low-power-20819/git/blobs/5da31512ba0eb416637ad9e2096194843d4fc805', size=29521)], truncated=False)\n",
      "processing tree 1544236817d8d39bc023530d5f232efd93040b20\n",
      "Checking .gitignore whether to FilterType.EXCLUDE it based on the filter file extensions: ['.png', '.jpg', '.jpeg', '.gif', '.svg', '.ico', 'json', '.ipynb']\n",
      "tree object: GitTreeResponseModel.GitTreeObject(path='.gitignore', mode='100644', type='blob', sha='a053eade2a77ebf0c1e34d65621041247e21af43', url='https://api.github.com/repos/Infineon/mtb-example-btsdk-low-power-20819/git/blobs/a053eade2a77ebf0c1e34d65621041247e21af43', size=2678)\n",
      "found blob .gitignore\n",
      "blob and full paths: [(GitTreeResponseModel.GitTreeObject(path='.gitignore', mode='100644', type='blob', sha='a053eade2a77ebf0c1e34d65621041247e21af43', url='https://api.github.com/repos/Infineon/mtb-example-btsdk-low-power-20819/git/blobs/a053eade2a77ebf0c1e34d65621041247e21af43', size=2678), '.gitignore')]\n",
      "Checking LICENSE whether to FilterType.EXCLUDE it based on the filter file extensions: ['.png', '.jpg', '.jpeg', '.gif', '.svg', '.ico', 'json', '.ipynb']\n",
      "tree object: GitTreeResponseModel.GitTreeObject(path='LICENSE', mode='100644', type='blob', sha='01d5e5857d76f6eeb507c5e33e2f8b46cf1b4e94', url='https://api.github.com/repos/Infineon/mtb-example-btsdk-low-power-20819/git/blobs/01d5e5857d76f6eeb507c5e33e2f8b46cf1b4e94', size=12551)\n",
      "found blob LICENSE\n",
      "blob and full paths: [(GitTreeResponseModel.GitTreeObject(path='.gitignore', mode='100644', type='blob', sha='a053eade2a77ebf0c1e34d65621041247e21af43', url='https://api.github.com/repos/Infineon/mtb-example-btsdk-low-power-20819/git/blobs/a053eade2a77ebf0c1e34d65621041247e21af43', size=2678), '.gitignore'), (GitTreeResponseModel.GitTreeObject(path='LICENSE', mode='100644', type='blob', sha='01d5e5857d76f6eeb507c5e33e2f8b46cf1b4e94', url='https://api.github.com/repos/Infineon/mtb-example-btsdk-low-power-20819/git/blobs/01d5e5857d76f6eeb507c5e33e2f8b46cf1b4e94', size=12551), 'LICENSE')]\n",
      "Checking Makefile whether to FilterType.EXCLUDE it based on the filter file extensions: ['.png', '.jpg', '.jpeg', '.gif', '.svg', '.ico', 'json', '.ipynb']\n",
      "tree object: GitTreeResponseModel.GitTreeObject(path='Makefile', mode='100644', type='blob', sha='25f8678560e357b958ee66db00197b3c21972f91', url='https://api.github.com/repos/Infineon/mtb-example-btsdk-low-power-20819/git/blobs/25f8678560e357b958ee66db00197b3c21972f91', size=6878)\n",
      "found blob Makefile\n",
      "blob and full paths: [(GitTreeResponseModel.GitTreeObject(path='.gitignore', mode='100644', type='blob', sha='a053eade2a77ebf0c1e34d65621041247e21af43', url='https://api.github.com/repos/Infineon/mtb-example-btsdk-low-power-20819/git/blobs/a053eade2a77ebf0c1e34d65621041247e21af43', size=2678), '.gitignore'), (GitTreeResponseModel.GitTreeObject(path='LICENSE', mode='100644', type='blob', sha='01d5e5857d76f6eeb507c5e33e2f8b46cf1b4e94', url='https://api.github.com/repos/Infineon/mtb-example-btsdk-low-power-20819/git/blobs/01d5e5857d76f6eeb507c5e33e2f8b46cf1b4e94', size=12551), 'LICENSE'), (GitTreeResponseModel.GitTreeObject(path='Makefile', mode='100644', type='blob', sha='25f8678560e357b958ee66db00197b3c21972f91', url='https://api.github.com/repos/Infineon/mtb-example-btsdk-low-power-20819/git/blobs/25f8678560e357b958ee66db00197b3c21972f91', size=6878), 'Makefile')]\n",
      "Checking README.md whether to FilterType.EXCLUDE it based on the filter file extensions: ['.png', '.jpg', '.jpeg', '.gif', '.svg', '.ico', 'json', '.ipynb']\n",
      "tree object: GitTreeResponseModel.GitTreeObject(path='README.md', mode='100644', type='blob', sha='99debca3370aa6566f89e4a2ebba904fb08a7048', url='https://api.github.com/repos/Infineon/mtb-example-btsdk-low-power-20819/git/blobs/99debca3370aa6566f89e4a2ebba904fb08a7048', size=31132)\n",
      "found blob README.md\n",
      "blob and full paths: [(GitTreeResponseModel.GitTreeObject(path='.gitignore', mode='100644', type='blob', sha='a053eade2a77ebf0c1e34d65621041247e21af43', url='https://api.github.com/repos/Infineon/mtb-example-btsdk-low-power-20819/git/blobs/a053eade2a77ebf0c1e34d65621041247e21af43', size=2678), '.gitignore'), (GitTreeResponseModel.GitTreeObject(path='LICENSE', mode='100644', type='blob', sha='01d5e5857d76f6eeb507c5e33e2f8b46cf1b4e94', url='https://api.github.com/repos/Infineon/mtb-example-btsdk-low-power-20819/git/blobs/01d5e5857d76f6eeb507c5e33e2f8b46cf1b4e94', size=12551), 'LICENSE'), (GitTreeResponseModel.GitTreeObject(path='Makefile', mode='100644', type='blob', sha='25f8678560e357b958ee66db00197b3c21972f91', url='https://api.github.com/repos/Infineon/mtb-example-btsdk-low-power-20819/git/blobs/25f8678560e357b958ee66db00197b3c21972f91', size=6878), 'Makefile'), (GitTreeResponseModel.GitTreeObject(path='README.md', mode='100644', type='blob', sha='99debca3370aa6566f89e4a2ebba904fb08a7048', url='https://api.github.com/repos/Infineon/mtb-example-btsdk-low-power-20819/git/blobs/99debca3370aa6566f89e4a2ebba904fb08a7048', size=31132), 'README.md')]\n",
      "Checking app_bt_cfg.c whether to FilterType.EXCLUDE it based on the filter file extensions: ['.png', '.jpg', '.jpeg', '.gif', '.svg', '.ico', 'json', '.ipynb']\n",
      "tree object: GitTreeResponseModel.GitTreeObject(path='app_bt_cfg.c', mode='100644', type='blob', sha='c3570fd0b53e7f41b3588123264d046007c80b71', url='https://api.github.com/repos/Infineon/mtb-example-btsdk-low-power-20819/git/blobs/c3570fd0b53e7f41b3588123264d046007c80b71', size=17185)\n",
      "found blob app_bt_cfg.c\n",
      "blob and full paths: [(GitTreeResponseModel.GitTreeObject(path='.gitignore', mode='100644', type='blob', sha='a053eade2a77ebf0c1e34d65621041247e21af43', url='https://api.github.com/repos/Infineon/mtb-example-btsdk-low-power-20819/git/blobs/a053eade2a77ebf0c1e34d65621041247e21af43', size=2678), '.gitignore'), (GitTreeResponseModel.GitTreeObject(path='LICENSE', mode='100644', type='blob', sha='01d5e5857d76f6eeb507c5e33e2f8b46cf1b4e94', url='https://api.github.com/repos/Infineon/mtb-example-btsdk-low-power-20819/git/blobs/01d5e5857d76f6eeb507c5e33e2f8b46cf1b4e94', size=12551), 'LICENSE'), (GitTreeResponseModel.GitTreeObject(path='Makefile', mode='100644', type='blob', sha='25f8678560e357b958ee66db00197b3c21972f91', url='https://api.github.com/repos/Infineon/mtb-example-btsdk-low-power-20819/git/blobs/25f8678560e357b958ee66db00197b3c21972f91', size=6878), 'Makefile'), (GitTreeResponseModel.GitTreeObject(path='README.md', mode='100644', type='blob', sha='99debca3370aa6566f89e4a2ebba904fb08a7048', url='https://api.github.com/repos/Infineon/mtb-example-btsdk-low-power-20819/git/blobs/99debca3370aa6566f89e4a2ebba904fb08a7048', size=31132), 'README.md'), (GitTreeResponseModel.GitTreeObject(path='app_bt_cfg.c', mode='100644', type='blob', sha='c3570fd0b53e7f41b3588123264d046007c80b71', url='https://api.github.com/repos/Infineon/mtb-example-btsdk-low-power-20819/git/blobs/c3570fd0b53e7f41b3588123264d046007c80b71', size=17185), 'app_bt_cfg.c')]\n",
      "Checking app_bt_cfg.h whether to FilterType.EXCLUDE it based on the filter file extensions: ['.png', '.jpg', '.jpeg', '.gif', '.svg', '.ico', 'json', '.ipynb']\n",
      "tree object: GitTreeResponseModel.GitTreeObject(path='app_bt_cfg.h', mode='100644', type='blob', sha='5e22220808cfe9f366c02e84f5e2b631c351d2fa', url='https://api.github.com/repos/Infineon/mtb-example-btsdk-low-power-20819/git/blobs/5e22220808cfe9f366c02e84f5e2b631c351d2fa', size=2652)\n",
      "found blob app_bt_cfg.h\n",
      "blob and full paths: [(GitTreeResponseModel.GitTreeObject(path='.gitignore', mode='100644', type='blob', sha='a053eade2a77ebf0c1e34d65621041247e21af43', url='https://api.github.com/repos/Infineon/mtb-example-btsdk-low-power-20819/git/blobs/a053eade2a77ebf0c1e34d65621041247e21af43', size=2678), '.gitignore'), (GitTreeResponseModel.GitTreeObject(path='LICENSE', mode='100644', type='blob', sha='01d5e5857d76f6eeb507c5e33e2f8b46cf1b4e94', url='https://api.github.com/repos/Infineon/mtb-example-btsdk-low-power-20819/git/blobs/01d5e5857d76f6eeb507c5e33e2f8b46cf1b4e94', size=12551), 'LICENSE'), (GitTreeResponseModel.GitTreeObject(path='Makefile', mode='100644', type='blob', sha='25f8678560e357b958ee66db00197b3c21972f91', url='https://api.github.com/repos/Infineon/mtb-example-btsdk-low-power-20819/git/blobs/25f8678560e357b958ee66db00197b3c21972f91', size=6878), 'Makefile'), (GitTreeResponseModel.GitTreeObject(path='README.md', mode='100644', type='blob', sha='99debca3370aa6566f89e4a2ebba904fb08a7048', url='https://api.github.com/repos/Infineon/mtb-example-btsdk-low-power-20819/git/blobs/99debca3370aa6566f89e4a2ebba904fb08a7048', size=31132), 'README.md'), (GitTreeResponseModel.GitTreeObject(path='app_bt_cfg.c', mode='100644', type='blob', sha='c3570fd0b53e7f41b3588123264d046007c80b71', url='https://api.github.com/repos/Infineon/mtb-example-btsdk-low-power-20819/git/blobs/c3570fd0b53e7f41b3588123264d046007c80b71', size=17185), 'app_bt_cfg.c'), (GitTreeResponseModel.GitTreeObject(path='app_bt_cfg.h', mode='100644', type='blob', sha='5e22220808cfe9f366c02e84f5e2b631c351d2fa', url='https://api.github.com/repos/Infineon/mtb-example-btsdk-low-power-20819/git/blobs/5e22220808cfe9f366c02e84f5e2b631c351d2fa', size=2652), 'app_bt_cfg.h')]\n",
      "Checking cycfg_bt.cybt whether to FilterType.EXCLUDE it based on the filter file extensions: ['.png', '.jpg', '.jpeg', '.gif', '.svg', '.ico', 'json', '.ipynb']\n",
      "tree object: GitTreeResponseModel.GitTreeObject(path='cycfg_bt.cybt', mode='100644', type='blob', sha='0523ac196748565fec4d03486410790c5c86eec8', url='https://api.github.com/repos/Infineon/mtb-example-btsdk-low-power-20819/git/blobs/0523ac196748565fec4d03486410790c5c86eec8', size=11615)\n",
      "found blob cycfg_bt.cybt\n",
      "blob and full paths: [(GitTreeResponseModel.GitTreeObject(path='.gitignore', mode='100644', type='blob', sha='a053eade2a77ebf0c1e34d65621041247e21af43', url='https://api.github.com/repos/Infineon/mtb-example-btsdk-low-power-20819/git/blobs/a053eade2a77ebf0c1e34d65621041247e21af43', size=2678), '.gitignore'), (GitTreeResponseModel.GitTreeObject(path='LICENSE', mode='100644', type='blob', sha='01d5e5857d76f6eeb507c5e33e2f8b46cf1b4e94', url='https://api.github.com/repos/Infineon/mtb-example-btsdk-low-power-20819/git/blobs/01d5e5857d76f6eeb507c5e33e2f8b46cf1b4e94', size=12551), 'LICENSE'), (GitTreeResponseModel.GitTreeObject(path='Makefile', mode='100644', type='blob', sha='25f8678560e357b958ee66db00197b3c21972f91', url='https://api.github.com/repos/Infineon/mtb-example-btsdk-low-power-20819/git/blobs/25f8678560e357b958ee66db00197b3c21972f91', size=6878), 'Makefile'), (GitTreeResponseModel.GitTreeObject(path='README.md', mode='100644', type='blob', sha='99debca3370aa6566f89e4a2ebba904fb08a7048', url='https://api.github.com/repos/Infineon/mtb-example-btsdk-low-power-20819/git/blobs/99debca3370aa6566f89e4a2ebba904fb08a7048', size=31132), 'README.md'), (GitTreeResponseModel.GitTreeObject(path='app_bt_cfg.c', mode='100644', type='blob', sha='c3570fd0b53e7f41b3588123264d046007c80b71', url='https://api.github.com/repos/Infineon/mtb-example-btsdk-low-power-20819/git/blobs/c3570fd0b53e7f41b3588123264d046007c80b71', size=17185), 'app_bt_cfg.c'), (GitTreeResponseModel.GitTreeObject(path='app_bt_cfg.h', mode='100644', type='blob', sha='5e22220808cfe9f366c02e84f5e2b631c351d2fa', url='https://api.github.com/repos/Infineon/mtb-example-btsdk-low-power-20819/git/blobs/5e22220808cfe9f366c02e84f5e2b631c351d2fa', size=2652), 'app_bt_cfg.h'), (GitTreeResponseModel.GitTreeObject(path='cycfg_bt.cybt', mode='100644', type='blob', sha='0523ac196748565fec4d03486410790c5c86eec8', url='https://api.github.com/repos/Infineon/mtb-example-btsdk-low-power-20819/git/blobs/0523ac196748565fec4d03486410790c5c86eec8', size=11615), 'cycfg_bt.cybt')]\n",
      "tree object: GitTreeResponseModel.GitTreeObject(path='deps', mode='040000', type='tree', sha='77000731ef3a848c2626bda3821a93507b84fad4', url='https://api.github.com/repos/Infineon/mtb-example-btsdk-low-power-20819/git/trees/77000731ef3a848c2626bda3821a93507b84fad4', size=None)\n",
      "recursing into deps\n",
      "\tcurrent path: deps\n",
      "\ttree data: GitTreeResponseModel(sha='77000731ef3a848c2626bda3821a93507b84fad4', url='https://api.github.com/repos/Infineon/mtb-example-btsdk-low-power-20819/git/trees/77000731ef3a848c2626bda3821a93507b84fad4', tree=[GitTreeResponseModel.GitTreeObject(path='TARGET_CYW920820M2EVB-01.mtb', mode='100644', type='blob', sha='e9c0ddbb9e32eb8d0528e8a29445a43c006f4083', url='https://api.github.com/repos/Infineon/mtb-example-btsdk-low-power-20819/git/blobs/e9c0ddbb9e32eb8d0528e8a29445a43c006f4083', size=141)], truncated=False)\n",
      "\tprocessing tree 77000731ef3a848c2626bda3821a93507b84fad4\n",
      "Checking deps/TARGET_CYW920820M2EVB-01.mtb whether to FilterType.EXCLUDE it based on the filter file extensions: ['.png', '.jpg', '.jpeg', '.gif', '.svg', '.ico', 'json', '.ipynb']\n",
      "\ttree object: GitTreeResponseModel.GitTreeObject(path='TARGET_CYW920820M2EVB-01.mtb', mode='100644', type='blob', sha='e9c0ddbb9e32eb8d0528e8a29445a43c006f4083', url='https://api.github.com/repos/Infineon/mtb-example-btsdk-low-power-20819/git/blobs/e9c0ddbb9e32eb8d0528e8a29445a43c006f4083', size=141)\n",
      "\tfound blob TARGET_CYW920820M2EVB-01.mtb\n",
      "\tblob and full paths: [(GitTreeResponseModel.GitTreeObject(path='TARGET_CYW920820M2EVB-01.mtb', mode='100644', type='blob', sha='e9c0ddbb9e32eb8d0528e8a29445a43c006f4083', url='https://api.github.com/repos/Infineon/mtb-example-btsdk-low-power-20819/git/blobs/e9c0ddbb9e32eb8d0528e8a29445a43c006f4083', size=141), 'deps/TARGET_CYW920820M2EVB-01.mtb')]\n",
      "blob and full paths: [(GitTreeResponseModel.GitTreeObject(path='.gitignore', mode='100644', type='blob', sha='a053eade2a77ebf0c1e34d65621041247e21af43', url='https://api.github.com/repos/Infineon/mtb-example-btsdk-low-power-20819/git/blobs/a053eade2a77ebf0c1e34d65621041247e21af43', size=2678), '.gitignore'), (GitTreeResponseModel.GitTreeObject(path='LICENSE', mode='100644', type='blob', sha='01d5e5857d76f6eeb507c5e33e2f8b46cf1b4e94', url='https://api.github.com/repos/Infineon/mtb-example-btsdk-low-power-20819/git/blobs/01d5e5857d76f6eeb507c5e33e2f8b46cf1b4e94', size=12551), 'LICENSE'), (GitTreeResponseModel.GitTreeObject(path='Makefile', mode='100644', type='blob', sha='25f8678560e357b958ee66db00197b3c21972f91', url='https://api.github.com/repos/Infineon/mtb-example-btsdk-low-power-20819/git/blobs/25f8678560e357b958ee66db00197b3c21972f91', size=6878), 'Makefile'), (GitTreeResponseModel.GitTreeObject(path='README.md', mode='100644', type='blob', sha='99debca3370aa6566f89e4a2ebba904fb08a7048', url='https://api.github.com/repos/Infineon/mtb-example-btsdk-low-power-20819/git/blobs/99debca3370aa6566f89e4a2ebba904fb08a7048', size=31132), 'README.md'), (GitTreeResponseModel.GitTreeObject(path='app_bt_cfg.c', mode='100644', type='blob', sha='c3570fd0b53e7f41b3588123264d046007c80b71', url='https://api.github.com/repos/Infineon/mtb-example-btsdk-low-power-20819/git/blobs/c3570fd0b53e7f41b3588123264d046007c80b71', size=17185), 'app_bt_cfg.c'), (GitTreeResponseModel.GitTreeObject(path='app_bt_cfg.h', mode='100644', type='blob', sha='5e22220808cfe9f366c02e84f5e2b631c351d2fa', url='https://api.github.com/repos/Infineon/mtb-example-btsdk-low-power-20819/git/blobs/5e22220808cfe9f366c02e84f5e2b631c351d2fa', size=2652), 'app_bt_cfg.h'), (GitTreeResponseModel.GitTreeObject(path='cycfg_bt.cybt', mode='100644', type='blob', sha='0523ac196748565fec4d03486410790c5c86eec8', url='https://api.github.com/repos/Infineon/mtb-example-btsdk-low-power-20819/git/blobs/0523ac196748565fec4d03486410790c5c86eec8', size=11615), 'cycfg_bt.cybt'), (GitTreeResponseModel.GitTreeObject(path='TARGET_CYW920820M2EVB-01.mtb', mode='100644', type='blob', sha='e9c0ddbb9e32eb8d0528e8a29445a43c006f4083', url='https://api.github.com/repos/Infineon/mtb-example-btsdk-low-power-20819/git/blobs/e9c0ddbb9e32eb8d0528e8a29445a43c006f4083', size=141), 'deps/TARGET_CYW920820M2EVB-01.mtb')]\n",
      "tree object: GitTreeResponseModel.GitTreeObject(path='images', mode='040000', type='tree', sha='20dacb00e228e588f7cff50564e67c6a021053fe', url='https://api.github.com/repos/Infineon/mtb-example-btsdk-low-power-20819/git/trees/20dacb00e228e588f7cff50564e67c6a021053fe', size=None)\n",
      "recursing into images\n",
      "\tcurrent path: images\n",
      "\ttree data: GitTreeResponseModel(sha='20dacb00e228e588f7cff50564e67c6a021053fe', url='https://api.github.com/repos/Infineon/mtb-example-btsdk-low-power-20819/git/trees/20dacb00e228e588f7cff50564e67c6a021053fe', tree=[GitTreeResponseModel.GitTreeObject(path='adv.png', mode='100644', type='blob', sha='318adc07073475ccd1ee80dc71d6edb79e139b62', url='https://api.github.com/repos/Infineon/mtb-example-btsdk-low-power-20819/git/blobs/318adc07073475ccd1ee80dc71d6edb79e139b62', size=60239), GitTreeResponseModel.GitTreeObject(path='appflow.png', mode='100644', type='blob', sha='12a4f028b3306236dd981862d6a885e68c97c353', url='https://api.github.com/repos/Infineon/mtb-example-btsdk-low-power-20819/git/blobs/12a4f028b3306236dd981862d6a885e68c97c353', size=5613), GitTreeResponseModel.GitTreeObject(path='bootup.png', mode='100644', type='blob', sha='07f70857567f0fb792a7c7eac316b36c470d19d8', url='https://api.github.com/repos/Infineon/mtb-example-btsdk-low-power-20819/git/blobs/07f70857567f0fb792a7c7eac316b36c470d19d8', size=53120), GitTreeResponseModel.GitTreeObject(path='btstack.png', mode='100644', type='blob', sha='aaf6719c9a46e34aba400e67f46c520f9d7321dd', url='https://api.github.com/repos/Infineon/mtb-example-btsdk-low-power-20819/git/blobs/aaf6719c9a46e34aba400e67f46c520f9d7321dd', size=32873), GitTreeResponseModel.GitTreeObject(path='butcb.png', mode='100644', type='blob', sha='1b6366a8897a6234bdb9730b441356494d08811b', url='https://api.github.com/repos/Infineon/mtb-example-btsdk-low-power-20819/git/blobs/1b6366a8897a6234bdb9730b441356494d08811b', size=15183), GitTreeResponseModel.GitTreeObject(path='connection.png', mode='100644', type='blob', sha='982b60559be17c12ca3b479fac81965fc6c08765', url='https://api.github.com/repos/Infineon/mtb-example-btsdk-low-power-20819/git/blobs/982b60559be17c12ca3b479fac81965fc6c08765', size=126622), GitTreeResponseModel.GitTreeObject(path='disconnection.png', mode='100644', type='blob', sha='14eda69623a41e587320469957764ce2f432d4f9', url='https://api.github.com/repos/Infineon/mtb-example-btsdk-low-power-20819/git/blobs/14eda69623a41e587320469957764ce2f432d4f9', size=685937), GitTreeResponseModel.GitTreeObject(path='measurecurrent.png', mode='100644', type='blob', sha='a2bacd49f907fe2c03a2c4bd2cb229951906f764', url='https://api.github.com/repos/Infineon/mtb-example-btsdk-low-power-20819/git/blobs/a2bacd49f907fe2c03a2c4bd2cb229951906f764', size=3404342), GitTreeResponseModel.GitTreeObject(path='qr.png', mode='100644', type='blob', sha='438f5abced792132528c0367e08dd3aec58a1a5d', url='https://api.github.com/repos/Infineon/mtb-example-btsdk-low-power-20819/git/blobs/438f5abced792132528c0367e08dd3aec58a1a5d', size=18850), GitTreeResponseModel.GitTreeObject(path='tempsnip.png', mode='100644', type='blob', sha='a42859fd73dfc4cf011e7c09a629ddd5134c9a72', url='https://api.github.com/repos/Infineon/mtb-example-btsdk-low-power-20819/git/blobs/a42859fd73dfc4cf011e7c09a629ddd5134c9a72', size=108647)], truncated=False)\n",
      "\tprocessing tree 20dacb00e228e588f7cff50564e67c6a021053fe\n",
      "Checking images/adv.png whether to FilterType.EXCLUDE it based on the filter file extensions: ['.png', '.jpg', '.jpeg', '.gif', '.svg', '.ico', 'json', '.ipynb']\n",
      "\tignoring adv.png due to filter\n",
      "Checking images/appflow.png whether to FilterType.EXCLUDE it based on the filter file extensions: ['.png', '.jpg', '.jpeg', '.gif', '.svg', '.ico', 'json', '.ipynb']\n",
      "\tignoring appflow.png due to filter\n",
      "Checking images/bootup.png whether to FilterType.EXCLUDE it based on the filter file extensions: ['.png', '.jpg', '.jpeg', '.gif', '.svg', '.ico', 'json', '.ipynb']\n",
      "\tignoring bootup.png due to filter\n",
      "Checking images/btstack.png whether to FilterType.EXCLUDE it based on the filter file extensions: ['.png', '.jpg', '.jpeg', '.gif', '.svg', '.ico', 'json', '.ipynb']\n",
      "\tignoring btstack.png due to filter\n",
      "Checking images/butcb.png whether to FilterType.EXCLUDE it based on the filter file extensions: ['.png', '.jpg', '.jpeg', '.gif', '.svg', '.ico', 'json', '.ipynb']\n",
      "\tignoring butcb.png due to filter\n",
      "Checking images/connection.png whether to FilterType.EXCLUDE it based on the filter file extensions: ['.png', '.jpg', '.jpeg', '.gif', '.svg', '.ico', 'json', '.ipynb']\n",
      "\tignoring connection.png due to filter\n",
      "Checking images/disconnection.png whether to FilterType.EXCLUDE it based on the filter file extensions: ['.png', '.jpg', '.jpeg', '.gif', '.svg', '.ico', 'json', '.ipynb']\n",
      "\tignoring disconnection.png due to filter\n",
      "Checking images/measurecurrent.png whether to FilterType.EXCLUDE it based on the filter file extensions: ['.png', '.jpg', '.jpeg', '.gif', '.svg', '.ico', 'json', '.ipynb']\n",
      "\tignoring measurecurrent.png due to filter\n",
      "Checking images/qr.png whether to FilterType.EXCLUDE it based on the filter file extensions: ['.png', '.jpg', '.jpeg', '.gif', '.svg', '.ico', 'json', '.ipynb']\n",
      "\tignoring qr.png due to filter\n",
      "Checking images/tempsnip.png whether to FilterType.EXCLUDE it based on the filter file extensions: ['.png', '.jpg', '.jpeg', '.gif', '.svg', '.ico', 'json', '.ipynb']\n",
      "\tignoring tempsnip.png due to filter\n",
      "blob and full paths: [(GitTreeResponseModel.GitTreeObject(path='.gitignore', mode='100644', type='blob', sha='a053eade2a77ebf0c1e34d65621041247e21af43', url='https://api.github.com/repos/Infineon/mtb-example-btsdk-low-power-20819/git/blobs/a053eade2a77ebf0c1e34d65621041247e21af43', size=2678), '.gitignore'), (GitTreeResponseModel.GitTreeObject(path='LICENSE', mode='100644', type='blob', sha='01d5e5857d76f6eeb507c5e33e2f8b46cf1b4e94', url='https://api.github.com/repos/Infineon/mtb-example-btsdk-low-power-20819/git/blobs/01d5e5857d76f6eeb507c5e33e2f8b46cf1b4e94', size=12551), 'LICENSE'), (GitTreeResponseModel.GitTreeObject(path='Makefile', mode='100644', type='blob', sha='25f8678560e357b958ee66db00197b3c21972f91', url='https://api.github.com/repos/Infineon/mtb-example-btsdk-low-power-20819/git/blobs/25f8678560e357b958ee66db00197b3c21972f91', size=6878), 'Makefile'), (GitTreeResponseModel.GitTreeObject(path='README.md', mode='100644', type='blob', sha='99debca3370aa6566f89e4a2ebba904fb08a7048', url='https://api.github.com/repos/Infineon/mtb-example-btsdk-low-power-20819/git/blobs/99debca3370aa6566f89e4a2ebba904fb08a7048', size=31132), 'README.md'), (GitTreeResponseModel.GitTreeObject(path='app_bt_cfg.c', mode='100644', type='blob', sha='c3570fd0b53e7f41b3588123264d046007c80b71', url='https://api.github.com/repos/Infineon/mtb-example-btsdk-low-power-20819/git/blobs/c3570fd0b53e7f41b3588123264d046007c80b71', size=17185), 'app_bt_cfg.c'), (GitTreeResponseModel.GitTreeObject(path='app_bt_cfg.h', mode='100644', type='blob', sha='5e22220808cfe9f366c02e84f5e2b631c351d2fa', url='https://api.github.com/repos/Infineon/mtb-example-btsdk-low-power-20819/git/blobs/5e22220808cfe9f366c02e84f5e2b631c351d2fa', size=2652), 'app_bt_cfg.h'), (GitTreeResponseModel.GitTreeObject(path='cycfg_bt.cybt', mode='100644', type='blob', sha='0523ac196748565fec4d03486410790c5c86eec8', url='https://api.github.com/repos/Infineon/mtb-example-btsdk-low-power-20819/git/blobs/0523ac196748565fec4d03486410790c5c86eec8', size=11615), 'cycfg_bt.cybt'), (GitTreeResponseModel.GitTreeObject(path='TARGET_CYW920820M2EVB-01.mtb', mode='100644', type='blob', sha='e9c0ddbb9e32eb8d0528e8a29445a43c006f4083', url='https://api.github.com/repos/Infineon/mtb-example-btsdk-low-power-20819/git/blobs/e9c0ddbb9e32eb8d0528e8a29445a43c006f4083', size=141), 'deps/TARGET_CYW920820M2EVB-01.mtb')]\n",
      "Checking low_power_20819.c whether to FilterType.EXCLUDE it based on the filter file extensions: ['.png', '.jpg', '.jpeg', '.gif', '.svg', '.ico', 'json', '.ipynb']\n",
      "tree object: GitTreeResponseModel.GitTreeObject(path='low_power_20819.c', mode='100644', type='blob', sha='98676ab48dceac09e866c15bd28689745cd86a62', url='https://api.github.com/repos/Infineon/mtb-example-btsdk-low-power-20819/git/blobs/98676ab48dceac09e866c15bd28689745cd86a62', size=10819)\n",
      "found blob low_power_20819.c\n",
      "blob and full paths: [(GitTreeResponseModel.GitTreeObject(path='.gitignore', mode='100644', type='blob', sha='a053eade2a77ebf0c1e34d65621041247e21af43', url='https://api.github.com/repos/Infineon/mtb-example-btsdk-low-power-20819/git/blobs/a053eade2a77ebf0c1e34d65621041247e21af43', size=2678), '.gitignore'), (GitTreeResponseModel.GitTreeObject(path='LICENSE', mode='100644', type='blob', sha='01d5e5857d76f6eeb507c5e33e2f8b46cf1b4e94', url='https://api.github.com/repos/Infineon/mtb-example-btsdk-low-power-20819/git/blobs/01d5e5857d76f6eeb507c5e33e2f8b46cf1b4e94', size=12551), 'LICENSE'), (GitTreeResponseModel.GitTreeObject(path='Makefile', mode='100644', type='blob', sha='25f8678560e357b958ee66db00197b3c21972f91', url='https://api.github.com/repos/Infineon/mtb-example-btsdk-low-power-20819/git/blobs/25f8678560e357b958ee66db00197b3c21972f91', size=6878), 'Makefile'), (GitTreeResponseModel.GitTreeObject(path='README.md', mode='100644', type='blob', sha='99debca3370aa6566f89e4a2ebba904fb08a7048', url='https://api.github.com/repos/Infineon/mtb-example-btsdk-low-power-20819/git/blobs/99debca3370aa6566f89e4a2ebba904fb08a7048', size=31132), 'README.md'), (GitTreeResponseModel.GitTreeObject(path='app_bt_cfg.c', mode='100644', type='blob', sha='c3570fd0b53e7f41b3588123264d046007c80b71', url='https://api.github.com/repos/Infineon/mtb-example-btsdk-low-power-20819/git/blobs/c3570fd0b53e7f41b3588123264d046007c80b71', size=17185), 'app_bt_cfg.c'), (GitTreeResponseModel.GitTreeObject(path='app_bt_cfg.h', mode='100644', type='blob', sha='5e22220808cfe9f366c02e84f5e2b631c351d2fa', url='https://api.github.com/repos/Infineon/mtb-example-btsdk-low-power-20819/git/blobs/5e22220808cfe9f366c02e84f5e2b631c351d2fa', size=2652), 'app_bt_cfg.h'), (GitTreeResponseModel.GitTreeObject(path='cycfg_bt.cybt', mode='100644', type='blob', sha='0523ac196748565fec4d03486410790c5c86eec8', url='https://api.github.com/repos/Infineon/mtb-example-btsdk-low-power-20819/git/blobs/0523ac196748565fec4d03486410790c5c86eec8', size=11615), 'cycfg_bt.cybt'), (GitTreeResponseModel.GitTreeObject(path='TARGET_CYW920820M2EVB-01.mtb', mode='100644', type='blob', sha='e9c0ddbb9e32eb8d0528e8a29445a43c006f4083', url='https://api.github.com/repos/Infineon/mtb-example-btsdk-low-power-20819/git/blobs/e9c0ddbb9e32eb8d0528e8a29445a43c006f4083', size=141), 'deps/TARGET_CYW920820M2EVB-01.mtb'), (GitTreeResponseModel.GitTreeObject(path='low_power_20819.c', mode='100644', type='blob', sha='98676ab48dceac09e866c15bd28689745cd86a62', url='https://api.github.com/repos/Infineon/mtb-example-btsdk-low-power-20819/git/blobs/98676ab48dceac09e866c15bd28689745cd86a62', size=10819), 'low_power_20819.c')]\n",
      "Checking low_power_20819.h whether to FilterType.EXCLUDE it based on the filter file extensions: ['.png', '.jpg', '.jpeg', '.gif', '.svg', '.ico', 'json', '.ipynb']\n",
      "tree object: GitTreeResponseModel.GitTreeObject(path='low_power_20819.h', mode='100644', type='blob', sha='dbcae1de6e654e1ae9fe45a53c045385a655c529', url='https://api.github.com/repos/Infineon/mtb-example-btsdk-low-power-20819/git/blobs/dbcae1de6e654e1ae9fe45a53c045385a655c529', size=3847)\n",
      "found blob low_power_20819.h\n",
      "blob and full paths: [(GitTreeResponseModel.GitTreeObject(path='.gitignore', mode='100644', type='blob', sha='a053eade2a77ebf0c1e34d65621041247e21af43', url='https://api.github.com/repos/Infineon/mtb-example-btsdk-low-power-20819/git/blobs/a053eade2a77ebf0c1e34d65621041247e21af43', size=2678), '.gitignore'), (GitTreeResponseModel.GitTreeObject(path='LICENSE', mode='100644', type='blob', sha='01d5e5857d76f6eeb507c5e33e2f8b46cf1b4e94', url='https://api.github.com/repos/Infineon/mtb-example-btsdk-low-power-20819/git/blobs/01d5e5857d76f6eeb507c5e33e2f8b46cf1b4e94', size=12551), 'LICENSE'), (GitTreeResponseModel.GitTreeObject(path='Makefile', mode='100644', type='blob', sha='25f8678560e357b958ee66db00197b3c21972f91', url='https://api.github.com/repos/Infineon/mtb-example-btsdk-low-power-20819/git/blobs/25f8678560e357b958ee66db00197b3c21972f91', size=6878), 'Makefile'), (GitTreeResponseModel.GitTreeObject(path='README.md', mode='100644', type='blob', sha='99debca3370aa6566f89e4a2ebba904fb08a7048', url='https://api.github.com/repos/Infineon/mtb-example-btsdk-low-power-20819/git/blobs/99debca3370aa6566f89e4a2ebba904fb08a7048', size=31132), 'README.md'), (GitTreeResponseModel.GitTreeObject(path='app_bt_cfg.c', mode='100644', type='blob', sha='c3570fd0b53e7f41b3588123264d046007c80b71', url='https://api.github.com/repos/Infineon/mtb-example-btsdk-low-power-20819/git/blobs/c3570fd0b53e7f41b3588123264d046007c80b71', size=17185), 'app_bt_cfg.c'), (GitTreeResponseModel.GitTreeObject(path='app_bt_cfg.h', mode='100644', type='blob', sha='5e22220808cfe9f366c02e84f5e2b631c351d2fa', url='https://api.github.com/repos/Infineon/mtb-example-btsdk-low-power-20819/git/blobs/5e22220808cfe9f366c02e84f5e2b631c351d2fa', size=2652), 'app_bt_cfg.h'), (GitTreeResponseModel.GitTreeObject(path='cycfg_bt.cybt', mode='100644', type='blob', sha='0523ac196748565fec4d03486410790c5c86eec8', url='https://api.github.com/repos/Infineon/mtb-example-btsdk-low-power-20819/git/blobs/0523ac196748565fec4d03486410790c5c86eec8', size=11615), 'cycfg_bt.cybt'), (GitTreeResponseModel.GitTreeObject(path='TARGET_CYW920820M2EVB-01.mtb', mode='100644', type='blob', sha='e9c0ddbb9e32eb8d0528e8a29445a43c006f4083', url='https://api.github.com/repos/Infineon/mtb-example-btsdk-low-power-20819/git/blobs/e9c0ddbb9e32eb8d0528e8a29445a43c006f4083', size=141), 'deps/TARGET_CYW920820M2EVB-01.mtb'), (GitTreeResponseModel.GitTreeObject(path='low_power_20819.c', mode='100644', type='blob', sha='98676ab48dceac09e866c15bd28689745cd86a62', url='https://api.github.com/repos/Infineon/mtb-example-btsdk-low-power-20819/git/blobs/98676ab48dceac09e866c15bd28689745cd86a62', size=10819), 'low_power_20819.c'), (GitTreeResponseModel.GitTreeObject(path='low_power_20819.h', mode='100644', type='blob', sha='dbcae1de6e654e1ae9fe45a53c045385a655c529', url='https://api.github.com/repos/Infineon/mtb-example-btsdk-low-power-20819/git/blobs/dbcae1de6e654e1ae9fe45a53c045385a655c529', size=3847), 'low_power_20819.h')]\n",
      "Checking low_power_20819_ble.c whether to FilterType.EXCLUDE it based on the filter file extensions: ['.png', '.jpg', '.jpeg', '.gif', '.svg', '.ico', 'json', '.ipynb']\n",
      "tree object: GitTreeResponseModel.GitTreeObject(path='low_power_20819_ble.c', mode='100644', type='blob', sha='5da31512ba0eb416637ad9e2096194843d4fc805', url='https://api.github.com/repos/Infineon/mtb-example-btsdk-low-power-20819/git/blobs/5da31512ba0eb416637ad9e2096194843d4fc805', size=29521)\n",
      "found blob low_power_20819_ble.c\n",
      "blob and full paths: [(GitTreeResponseModel.GitTreeObject(path='.gitignore', mode='100644', type='blob', sha='a053eade2a77ebf0c1e34d65621041247e21af43', url='https://api.github.com/repos/Infineon/mtb-example-btsdk-low-power-20819/git/blobs/a053eade2a77ebf0c1e34d65621041247e21af43', size=2678), '.gitignore'), (GitTreeResponseModel.GitTreeObject(path='LICENSE', mode='100644', type='blob', sha='01d5e5857d76f6eeb507c5e33e2f8b46cf1b4e94', url='https://api.github.com/repos/Infineon/mtb-example-btsdk-low-power-20819/git/blobs/01d5e5857d76f6eeb507c5e33e2f8b46cf1b4e94', size=12551), 'LICENSE'), (GitTreeResponseModel.GitTreeObject(path='Makefile', mode='100644', type='blob', sha='25f8678560e357b958ee66db00197b3c21972f91', url='https://api.github.com/repos/Infineon/mtb-example-btsdk-low-power-20819/git/blobs/25f8678560e357b958ee66db00197b3c21972f91', size=6878), 'Makefile'), (GitTreeResponseModel.GitTreeObject(path='README.md', mode='100644', type='blob', sha='99debca3370aa6566f89e4a2ebba904fb08a7048', url='https://api.github.com/repos/Infineon/mtb-example-btsdk-low-power-20819/git/blobs/99debca3370aa6566f89e4a2ebba904fb08a7048', size=31132), 'README.md'), (GitTreeResponseModel.GitTreeObject(path='app_bt_cfg.c', mode='100644', type='blob', sha='c3570fd0b53e7f41b3588123264d046007c80b71', url='https://api.github.com/repos/Infineon/mtb-example-btsdk-low-power-20819/git/blobs/c3570fd0b53e7f41b3588123264d046007c80b71', size=17185), 'app_bt_cfg.c'), (GitTreeResponseModel.GitTreeObject(path='app_bt_cfg.h', mode='100644', type='blob', sha='5e22220808cfe9f366c02e84f5e2b631c351d2fa', url='https://api.github.com/repos/Infineon/mtb-example-btsdk-low-power-20819/git/blobs/5e22220808cfe9f366c02e84f5e2b631c351d2fa', size=2652), 'app_bt_cfg.h'), (GitTreeResponseModel.GitTreeObject(path='cycfg_bt.cybt', mode='100644', type='blob', sha='0523ac196748565fec4d03486410790c5c86eec8', url='https://api.github.com/repos/Infineon/mtb-example-btsdk-low-power-20819/git/blobs/0523ac196748565fec4d03486410790c5c86eec8', size=11615), 'cycfg_bt.cybt'), (GitTreeResponseModel.GitTreeObject(path='TARGET_CYW920820M2EVB-01.mtb', mode='100644', type='blob', sha='e9c0ddbb9e32eb8d0528e8a29445a43c006f4083', url='https://api.github.com/repos/Infineon/mtb-example-btsdk-low-power-20819/git/blobs/e9c0ddbb9e32eb8d0528e8a29445a43c006f4083', size=141), 'deps/TARGET_CYW920820M2EVB-01.mtb'), (GitTreeResponseModel.GitTreeObject(path='low_power_20819.c', mode='100644', type='blob', sha='98676ab48dceac09e866c15bd28689745cd86a62', url='https://api.github.com/repos/Infineon/mtb-example-btsdk-low-power-20819/git/blobs/98676ab48dceac09e866c15bd28689745cd86a62', size=10819), 'low_power_20819.c'), (GitTreeResponseModel.GitTreeObject(path='low_power_20819.h', mode='100644', type='blob', sha='dbcae1de6e654e1ae9fe45a53c045385a655c529', url='https://api.github.com/repos/Infineon/mtb-example-btsdk-low-power-20819/git/blobs/dbcae1de6e654e1ae9fe45a53c045385a655c529', size=3847), 'low_power_20819.h'), (GitTreeResponseModel.GitTreeObject(path='low_power_20819_ble.c', mode='100644', type='blob', sha='5da31512ba0eb416637ad9e2096194843d4fc805', url='https://api.github.com/repos/Infineon/mtb-example-btsdk-low-power-20819/git/blobs/5da31512ba0eb416637ad9e2096194843d4fc805', size=29521), 'low_power_20819_ble.c')]\n",
      "got 11 blobs\n",
      "Time to get blobs ([('.gitignore', 2678), ('LICENSE', 12551), ('Makefile', 6878), ('README.md', 31132), ('app_bt_cfg.c', 17185)]): 0.95 seconds\n",
      "generating document for .gitignore\n",
      "got 2678 characters- adding to documents - .gitignore\n",
      "generating document for LICENSE\n",
      "got 12551 characters- adding to documents - LICENSE\n",
      "generating document for Makefile\n",
      "got 6878 characters- adding to documents - Makefile\n",
      "generating document for README.md\n",
      "got 31092 characters- adding to documents - README.md\n",
      "generating document for app_bt_cfg.c\n",
      "got 17185 characters- adding to documents - app_bt_cfg.c\n",
      "Time to get blobs ([('app_bt_cfg.h', 2652), ('cycfg_bt.cybt', 11615), ('TARGET_CYW920820M2EVB-01.mtb', 141), ('low_power_20819.c', 10819), ('low_power_20819.h', 3847)]): 0.76 seconds\n",
      "generating document for app_bt_cfg.h\n",
      "got 2652 characters- adding to documents - app_bt_cfg.h\n",
      "generating document for cycfg_bt.cybt\n",
      "got 11615 characters- adding to documents - cycfg_bt.cybt\n",
      "generating document for deps/TARGET_CYW920820M2EVB-01.mtb\n",
      "got 141 characters- adding to documents - deps/TARGET_CYW920820M2EVB-01.mtb\n",
      "generating document for low_power_20819.c\n",
      "got 10819 characters- adding to documents - low_power_20819.c\n",
      "generating document for low_power_20819.h\n",
      "got 3847 characters- adding to documents - low_power_20819.h\n",
      "Time to get blobs ([('low_power_20819_ble.c', 29521)]): 0.40 seconds\n",
      "generating document for low_power_20819_ble.c\n",
      "got 29521 characters- adding to documents - low_power_20819_ble.c\n"
     ]
    }
   ],
   "source": [
    "from llama_index.readers.github import GithubRepositoryReader, GithubClient\n",
    "\n",
    "client = github_client = GithubClient(github_token=github_token, verbose=False)\n",
    "\n",
    "reader = GithubRepositoryReader(\n",
    "    github_client=github_client,\n",
    "    owner=\"Infineon\",\n",
    "    repo=\"mtb-example-btsdk-low-power-20819\",\n",
    "    use_parser=False,\n",
    "    verbose=True,\n",
    "    # filter_directories=(\n",
    "    #     [\"docs\"],\n",
    "    #     GithubRepositoryReader.FilterType.INCLUDE,\n",
    "    # ),\n",
    "    filter_file_extensions=(\n",
    "        [\n",
    "            \".png\",\n",
    "            \".jpg\",\n",
    "            \".jpeg\",\n",
    "            \".gif\",\n",
    "            \".svg\",\n",
    "            \".ico\",\n",
    "            \"json\",\n",
    "            \".ipynb\",\n",
    "        ],\n",
    "        GithubRepositoryReader.FilterType.EXCLUDE,\n",
    "    ),\n",
    ")\n",
    "\n",
    "documents = reader.load_data(branch=\"master\")"
   ]
  },
  {
   "cell_type": "code",
   "execution_count": 198,
   "metadata": {},
   "outputs": [
    {
     "name": "stdout",
     "output_type": "stream",
     "text": [
      "{'file_path': '.gitignore', 'file_name': '.gitignore', 'url': 'https://github.com/Infineon/mtb-example-btsdk-low-power-20819/blob/master/.gitignore', 'repo': 'mtb-example-btsdk-low-power-20819', 'folder': ''}\n",
      "{'file_path': 'LICENSE', 'file_name': 'LICENSE', 'url': 'https://github.com/Infineon/mtb-example-btsdk-low-power-20819/blob/master/LICENSE', 'repo': 'mtb-example-btsdk-low-power-20819', 'folder': ''}\n",
      "{'file_path': 'Makefile', 'file_name': 'Makefile', 'url': 'https://github.com/Infineon/mtb-example-btsdk-low-power-20819/blob/master/Makefile', 'repo': 'mtb-example-btsdk-low-power-20819', 'folder': ''}\n",
      "{'file_path': 'README.md', 'file_name': 'README.md', 'url': 'https://github.com/Infineon/mtb-example-btsdk-low-power-20819/blob/master/README.md', 'repo': 'mtb-example-btsdk-low-power-20819', 'folder': ''}\n",
      "{'file_path': 'app_bt_cfg.c', 'file_name': 'app_bt_cfg.c', 'url': 'https://github.com/Infineon/mtb-example-btsdk-low-power-20819/blob/master/app_bt_cfg.c', 'repo': 'mtb-example-btsdk-low-power-20819', 'folder': ''}\n",
      "{'file_path': 'app_bt_cfg.h', 'file_name': 'app_bt_cfg.h', 'url': 'https://github.com/Infineon/mtb-example-btsdk-low-power-20819/blob/master/app_bt_cfg.h', 'repo': 'mtb-example-btsdk-low-power-20819', 'folder': ''}\n",
      "{'file_path': 'cycfg_bt.cybt', 'file_name': 'cycfg_bt.cybt', 'url': 'https://github.com/Infineon/mtb-example-btsdk-low-power-20819/blob/master/cycfg_bt.cybt', 'repo': 'mtb-example-btsdk-low-power-20819', 'folder': ''}\n",
      "{'file_path': 'deps/TARGET_CYW920820M2EVB-01.mtb', 'file_name': 'TARGET_CYW920820M2EVB-01.mtb', 'url': 'https://github.com/Infineon/mtb-example-btsdk-low-power-20819/blob/master/deps/TARGET_CYW920820M2EVB-01.mtb', 'repo': 'mtb-example-btsdk-low-power-20819', 'folder': 'mtb-example-btsdk-low-power-20819/deps'}\n",
      "{'file_path': 'low_power_20819.c', 'file_name': 'low_power_20819.c', 'url': 'https://github.com/Infineon/mtb-example-btsdk-low-power-20819/blob/master/low_power_20819.c', 'repo': 'mtb-example-btsdk-low-power-20819', 'folder': ''}\n",
      "{'file_path': 'low_power_20819.h', 'file_name': 'low_power_20819.h', 'url': 'https://github.com/Infineon/mtb-example-btsdk-low-power-20819/blob/master/low_power_20819.h', 'repo': 'mtb-example-btsdk-low-power-20819', 'folder': ''}\n",
      "{'file_path': 'low_power_20819_ble.c', 'file_name': 'low_power_20819_ble.c', 'url': 'https://github.com/Infineon/mtb-example-btsdk-low-power-20819/blob/master/low_power_20819_ble.c', 'repo': 'mtb-example-btsdk-low-power-20819', 'folder': ''}\n"
     ]
    }
   ],
   "source": [
    "for doc in documents:\n",
    "    doc.metadata['repo']='mtb-example-btsdk-low-power-20819'\n",
    "    doc.metadata['folder']= doc.metadata['repo'] + '/' + doc.metadata['file_path'].split('/')[0] if '/' in doc.metadata['file_path'] else ''\n",
    "    print(doc.metadata)"
   ]
  },
  {
   "attachments": {},
   "cell_type": "markdown",
   "metadata": {},
   "source": [
    "# Pinecone to store db"
   ]
  },
  {
   "cell_type": "code",
   "execution_count": 30,
   "metadata": {},
   "outputs": [],
   "source": [
    "from pinecone import Pinecone, ServerlessSpec\n",
    "\n",
    "# os.environ[\"PINECONE_API_KEY\"] = ''\n",
    "os.environ[\"PINECONE_API_KEY\"] = ''"
   ]
  },
  {
   "cell_type": "code",
   "execution_count": 31,
   "metadata": {},
   "outputs": [],
   "source": [
    "pc = Pinecone(api_key=os.environ[\"PINECONE_API_KEY\"])"
   ]
  },
  {
   "cell_type": "code",
   "execution_count": 32,
   "metadata": {},
   "outputs": [],
   "source": [
    "os.environ['MISTRAL_API_KEY'] = ''"
   ]
  },
  {
   "cell_type": "code",
   "execution_count": 33,
   "metadata": {},
   "outputs": [],
   "source": [
    "from llama_index.embeddings.mistralai import MistralAIEmbedding\n",
    "\n",
    "model_name=\"mistral-embed\"\n",
    "\n",
    "embed_model = MistralAIEmbedding(model_name=model_name)"
   ]
  },
  {
   "cell_type": "code",
   "execution_count": 34,
   "metadata": {},
   "outputs": [],
   "source": [
    "from llama_index.core import Settings\n",
    "\n",
    "Settings.embed_model = embed_model"
   ]
  },
  {
   "cell_type": "code",
   "execution_count": 35,
   "metadata": {},
   "outputs": [],
   "source": [
    "index_name = \"llamaindex-ragathon-mohit-full-docs\"\n",
    "\n",
    "pc.create_index(\n",
    "    name=index_name,\n",
    "    dimension=1024,\n",
    "    metric=\"cosine\",\n",
    "    spec=ServerlessSpec(\n",
    "        cloud=\"aws\",\n",
    "        region=\"us-east-1\"\n",
    "    )\n",
    ")"
   ]
  },
  {
   "cell_type": "code",
   "execution_count": 36,
   "metadata": {},
   "outputs": [],
   "source": [
    "pinecone_index = pc.Index(index_name)"
   ]
  },
  {
   "attachments": {},
   "cell_type": "markdown",
   "metadata": {},
   "source": [
    "# upload docs to index"
   ]
  },
  {
   "cell_type": "code",
   "execution_count": 37,
   "metadata": {},
   "outputs": [],
   "source": [
    "from llama_index.core import StorageContext\n",
    "from llama_index.core import VectorStoreIndex, SimpleDirectoryReader\n",
    "from llama_index.vector_stores.pinecone import PineconeVectorStore"
   ]
  },
  {
   "cell_type": "code",
   "execution_count": 44,
   "metadata": {},
   "outputs": [],
   "source": [
    "import asyncio\n",
    "\n",
    "async def create_index_async(documents):\n",
    "    vector_store = PineconeVectorStore(pinecone_index=pinecone_index)\n",
    "    storage_context = StorageContext.from_defaults(vector_store=vector_store)\n",
    "    \n",
    "    # Use asyncio.gather() to handle multiple document insertions\n",
    "    index = await VectorStoreIndex.from_documents(documents, storage_context=storage_context)\n",
    "    return index"
   ]
  },
  {
   "cell_type": "code",
   "execution_count": 47,
   "metadata": {},
   "outputs": [],
   "source": [
    "import getpass\n",
    "import os\n",
    "import time\n",
    "\n",
    "from pinecone import Pinecone, ServerlessSpec\n",
    "\n",
    "pinecone_api_key = os.environ.get(\"PINECONE_API_KEY\")\n",
    "\n",
    "pc = Pinecone(api_key=pinecone_api_key)"
   ]
  },
  {
   "cell_type": "code",
   "execution_count": 199,
   "metadata": {},
   "outputs": [],
   "source": [
    "import time\n",
    "\n",
    "index_name = \"langchain-test-index-mohit-full-docs\"  # change if desired\n",
    "\n",
    "existing_indexes = [index_info[\"name\"] for index_info in pc.list_indexes()]\n",
    "\n",
    "if index_name not in existing_indexes:\n",
    "    pc.create_index(\n",
    "        name=index_name,\n",
    "        dimension=1536,\n",
    "        metric=\"cosine\",\n",
    "        spec=ServerlessSpec(cloud=\"aws\", region=\"us-east-1\"),\n",
    "    )\n",
    "    while not pc.describe_index(index_name).status[\"ready\"]:\n",
    "        time.sleep(1)\n",
    "\n",
    "index = pc.Index(index_name)"
   ]
  },
  {
   "cell_type": "code",
   "execution_count": 50,
   "metadata": {},
   "outputs": [],
   "source": [
    "os.environ['OPENAI_API_KEY'] = ''\n",
    "from langchain_openai import OpenAIEmbeddings\n",
    "\n",
    "embeddings = OpenAIEmbeddings()"
   ]
  },
  {
   "cell_type": "code",
   "execution_count": 200,
   "metadata": {},
   "outputs": [],
   "source": [
    "from langchain_pinecone import PineconeVectorStore\n",
    "\n",
    "vector_store = PineconeVectorStore(index=index, embedding=embeddings)"
   ]
  },
  {
   "cell_type": "code",
   "execution_count": 161,
   "metadata": {},
   "outputs": [],
   "source": [
    "from uuid import uuid4\n",
    "\n",
    "# vector_store.add_documents(documents=documents, ids=uuids)"
   ]
  },
  {
   "cell_type": "code",
   "execution_count": 204,
   "metadata": {},
   "outputs": [],
   "source": [
    "# Assuming 'documents' is your list of Document instances\n",
    "from langchain_core.documents import Document\n",
    "\n",
    "updated_documents = []\n",
    "\n",
    "for document in documents:\n",
    "    # Create a new Document instance with the updated attributes\n",
    "    updated_document = Document(\n",
    "        metadata=document.metadata,  # Keep metadata the same\n",
    "        page_content=document.text,  # Change text to page_content\n",
    "    )\n",
    "    updated_documents.append(updated_document)\n",
    "\n",
    "# updated_documents now contains the modified Document instances\n"
   ]
  },
  {
   "cell_type": "code",
   "execution_count": 205,
   "metadata": {},
   "outputs": [
    {
     "data": {
      "text/plain": [
       "11"
      ]
     },
     "execution_count": 205,
     "metadata": {},
     "output_type": "execute_result"
    }
   ],
   "source": [
    "len(updated_documents)"
   ]
  },
  {
   "cell_type": "code",
   "execution_count": 206,
   "metadata": {},
   "outputs": [],
   "source": [
    "uuids = [str(uuid4()) for doc in updated_documents]"
   ]
  },
  {
   "attachments": {},
   "cell_type": "markdown",
   "metadata": {},
   "source": [
    "# Chunking"
   ]
  },
  {
   "cell_type": "code",
   "execution_count": 165,
   "metadata": {},
   "outputs": [],
   "source": [
    "from langchain_text_splitters import TokenTextSplitter\n",
    "chunks=[]\n",
    "for doc in updated_documents:\n",
    "\n",
    "    text_splitter = TokenTextSplitter(chunk_size=400, chunk_overlap=80)\n",
    "    content = text_splitter.split_text(doc.page_content)\n",
    "    for chunk in content:\n",
    "        chunks.append(\n",
    "            Document(\n",
    "                metadata=doc.metadata,\n",
    "                page_content = chunk\n",
    "            ),\n",
    "            \n",
    "        )"
   ]
  },
  {
   "cell_type": "code",
   "execution_count": null,
   "metadata": {},
   "outputs": [],
   "source": [
    "chunks"
   ]
  },
  {
   "cell_type": "code",
   "execution_count": 171,
   "metadata": {},
   "outputs": [],
   "source": [
    "uuids = [str(uuid4()) for doc in chunks]"
   ]
  },
  {
   "cell_type": "code",
   "execution_count": null,
   "metadata": {},
   "outputs": [],
   "source": [
    "for i in chunks:\n",
    "    print(i.metadata)"
   ]
  },
  {
   "cell_type": "code",
   "execution_count": 207,
   "metadata": {},
   "outputs": [
    {
     "data": {
      "text/plain": [
       "['e514d60e-0890-4ac4-afe9-aeb8476130e1',\n",
       " '9a5c805f-7144-40c8-9753-81ac70bed475',\n",
       " 'd04a7ff8-f591-4308-b4a7-720efad3dcd3',\n",
       " '40e59566-fdcf-42fd-9b97-699d1b73aaac',\n",
       " 'a0eeec9a-3318-4578-92ac-fc74dd43b6dc',\n",
       " '743f2148-28f7-421f-a619-756bf7dff12b',\n",
       " '7a6db576-6d2a-4e76-924e-cc7dc7a5ed48',\n",
       " '69127ea0-a3ab-4fce-8f0a-3c6ac12c4de3',\n",
       " '11e22a62-f15b-44d5-a398-ee7f657bd8e4',\n",
       " '3274aa90-5785-4a08-ba3b-46ca3732be46',\n",
       " 'c86e4ea2-48a3-4efa-b2ef-034ab374c914']"
      ]
     },
     "execution_count": 207,
     "metadata": {},
     "output_type": "execute_result"
    }
   ],
   "source": [
    "vector_store.add_documents(documents=chunks, ids=uuids)"
   ]
  },
  {
   "cell_type": "code",
   "execution_count": 105,
   "metadata": {},
   "outputs": [],
   "source": [
    "results = vector_store.similarity_search_with_relevance_scores(\n",
    "    '''Group: Home/Forums/WirelessConnectivity/AIROC Bluetooth\n",
    "Topic: cybt-213043-02 not entering sleep mode\n",
    "Hi,\n",
    "I am using cybt-213043-02 eval board. I am running https://github.com/Infineon/mtb-example-btsdk-low-power-20819 example with a tweak that changes the eval board to cybt-213043-eval.\n",
    "I can see the output on the PUART when I press the user button and the ble works ok.\n",
    "However the board never enters sleep mode. I see a constant ~2.5mA usage and the sleep permit handler is never called. Also sleep callback is never called.\n",
    "The HOST_WAKE and DEV_WAKE pins are floating. I have tried tying them to either VCC or GND without effect. Is there some additional configuration or hw requirement to trigger sleep mode.\n",
    "Thank you for response.''',\n",
    "    k=15,\n",
    ")"
   ]
  },
  {
   "cell_type": "code",
   "execution_count": null,
   "metadata": {},
   "outputs": [],
   "source": [
    "s = vector_store.similarity_search('How to deploy an edge in AWS', k=4)\n",
    "s"
   ]
  },
  {
   "cell_type": "code",
   "execution_count": 106,
   "metadata": {},
   "outputs": [
    {
     "name": "stdout",
     "output_type": "stream",
     "text": [
      "{'file_name': 'README.md', 'file_path': 'README.md', 'url': 'https://github.com/Infineon/mtb-example-btsdk-low-power-20819/blob/master/README.md'}\n",
      "{'file_name': 'README.md', 'file_path': 'README.md', 'url': 'https://github.com/Infineon/mtb-example-btsdk-low-power-20819/blob/master/README.md'}\n",
      "{'file_name': 'low_power_20819_ble.c', 'file_path': 'low_power_20819_ble.c', 'url': 'https://github.com/Infineon/mtb-example-btsdk-low-power-20819/blob/master/low_power_20819_ble.c'}\n",
      "{'file_name': 'README.md', 'file_path': 'README.md', 'url': 'https://github.com/Infineon/mtb-example-btsdk-low-power-20819/blob/master/README.md'}\n",
      "{'file_name': 'low_power_20819.c', 'file_path': 'low_power_20819.c', 'url': 'https://github.com/Infineon/mtb-example-btsdk-low-power-20819/blob/master/low_power_20819.c'}\n",
      "{'file_name': 'README.md', 'file_path': 'README.md', 'url': 'https://github.com/Infineon/mtb-example-btsdk-low-power-20819/blob/master/README.md'}\n",
      "{'file_name': 'low_power_20819.c', 'file_path': 'low_power_20819.c', 'url': 'https://github.com/Infineon/mtb-example-btsdk-low-power-20819/blob/master/low_power_20819.c'}\n",
      "{'file_name': 'README.md', 'file_path': 'README.md', 'url': 'https://github.com/Infineon/mtb-example-btsdk-low-power-20819/blob/master/README.md'}\n",
      "{'file_name': 'README.md', 'file_path': 'README.md', 'url': 'https://github.com/Infineon/mtb-example-btsdk-low-power-20819/blob/master/README.md'}\n",
      "{'file_name': 'README.md', 'file_path': 'README.md', 'url': 'https://github.com/Infineon/mtb-example-btsdk-low-power-20819/blob/master/README.md'}\n",
      "{'file_name': 'TARGET_CYW920820M2EVB-01.mtb', 'file_path': 'deps/TARGET_CYW920820M2EVB-01.mtb', 'url': 'https://github.com/Infineon/mtb-example-btsdk-low-power-20819/blob/master/deps/TARGET_CYW920820M2EVB-01.mtb'}\n",
      "{'file_name': 'README.md', 'file_path': 'README.md', 'url': 'https://github.com/Infineon/mtb-example-btsdk-low-power-20819/blob/master/README.md'}\n",
      "{'file_name': 'README.md', 'file_path': 'README.md', 'url': 'https://github.com/Infineon/mtb-example-btsdk-low-power-20819/blob/master/README.md'}\n",
      "{'file_name': 'README.md', 'file_path': 'README.md', 'url': 'https://github.com/Infineon/mtb-example-btsdk-low-power-20819/blob/master/README.md'}\n",
      "{'file_name': 'README.md', 'file_path': 'README.md', 'url': 'https://github.com/Infineon/mtb-example-btsdk-low-power-20819/blob/master/README.md'}\n"
     ]
    }
   ],
   "source": [
    "context=[]\n",
    "for i in results:\n",
    "    context.append(i[0].page_content)\n",
    "    print(i[0].metadata)"
   ]
  },
  {
   "cell_type": "code",
   "execution_count": 130,
   "metadata": {},
   "outputs": [
    {
     "data": {
      "text/plain": [
       "langchain_pinecone.vectorstores.PineconeVectorStore"
      ]
     },
     "execution_count": 130,
     "metadata": {},
     "output_type": "execute_result"
    }
   ],
   "source": [
    "type(vector_store)"
   ]
  },
  {
   "cell_type": "code",
   "execution_count": null,
   "metadata": {},
   "outputs": [],
   "source": [
    "vector_store.delete(ids=uuids)"
   ]
  },
  {
   "cell_type": "code",
   "execution_count": 84,
   "metadata": {},
   "outputs": [],
   "source": [
    "from langchain_openai import ChatOpenAI\n",
    "\n",
    "llm = ChatOpenAI(\n",
    "    model='gpt-4o',\n",
    "    temperature=0.1,\n",
    "    max_tokens=2048\n",
    ")"
   ]
  },
  {
   "cell_type": "code",
   "execution_count": 87,
   "metadata": {},
   "outputs": [],
   "source": [
    "from langchain.prompts import PromptTemplate\n",
    "prompt_template = \"\"\"\n",
    "Human: You are an expert at generating answers from the context given.\n",
    "\n",
    "You are given a list of documents as context to use as reference while generating the answer.\n",
    "\n",
    "Use the documents as reference. if you dont know say you dont know.\n",
    "\n",
    "Relevant Documents:\n",
    "\n",
    "<context>\n",
    "{context}\n",
    "</context>\n",
    "\n",
    "<question>\n",
    "{query}\n",
    "</question>\n",
    "\n",
    "Assistant:\"\"\"\n",
    "\n",
    "doc_prompt = PromptTemplate(template=prompt_template, \n",
    "                               input_variables=[\"context\",\"query\"])"
   ]
  },
  {
   "cell_type": "code",
   "execution_count": 93,
   "metadata": {},
   "outputs": [],
   "source": [
    "low_power_as_context = '''/*******************************************************************************\n",
    "* Copyright 2020-2022, Cypress Semiconductor Corporation (an Infineon company) or\n",
    "* an affiliate of Cypress Semiconductor Corporation.  All rights reserved.\n",
    "*\n",
    "* This software, including source code, documentation and related\n",
    "* materials (\"Software\") is owned by Cypress Semiconductor Corporation\n",
    "* or one of its affiliates (\"Cypress\") and is protected by and subject to\n",
    "* worldwide patent protection (United States and foreign),\n",
    "* United States copyright laws and international treaty provisions.\n",
    "* Therefore, you may use this Software only as provided in the license\n",
    "* agreement accompanying the software package from which you\n",
    "* obtained this Software (\"EULA\").\n",
    "* If no EULA applies, Cypress hereby grants you a personal, non-exclusive,\n",
    "* non-transferable license to copy, modify, and compile the Software\n",
    "* source code solely for use in connection with Cypress's\n",
    "* integrated circuit products.  Any reproduction, modification, translation,\n",
    "* compilation, or representation of this Software except as specified\n",
    "* above is prohibited without the express written permission of Cypress.\n",
    "*\n",
    "* Disclaimer: THIS SOFTWARE IS PROVIDED AS-IS, WITH NO WARRANTY OF ANY KIND,\n",
    "* EXPRESS OR IMPLIED, INCLUDING, BUT NOT LIMITED TO, NONINFRINGEMENT, IMPLIED\n",
    "* WARRANTIES OF MERCHANTABILITY AND FITNESS FOR A PARTICULAR PURPOSE. Cypress\n",
    "* reserves the right to make changes to the Software without notice. Cypress\n",
    "* does not assume any liability arising out of the application or use of the\n",
    "* Software or any product or circuit described in the Software. Cypress does\n",
    "* not authorize its products for use in any products where a malfunction or\n",
    "* failure of the Cypress product may reasonably be expected to result in\n",
    "* significant property damage, injury or death (\"High Risk Product\"). By\n",
    "* including Cypress's product in a High Risk Product, the manufacturer\n",
    "* of such system or application assumes all risk of such use and in doing\n",
    "* so agrees to indemnify Cypress against all liability.\n",
    "*******************************************************************************/\n",
    "\n",
    "/*******************************************************************************\n",
    " * File name: low_power_20819.c\n",
    " *\n",
    " * Description: Main file which is the entry point to the application.\n",
    " *              The application_start function initializes UART for trace\n",
    " *              messages, initializes the BT stack and configures sleep\n",
    " *              parameters. The low_power_sleep_handler function handles the\n",
    " *              sleep related callbacks from the PMU.\n",
    " *              Refer to the CE document CE225540_CYW20819_Low_Power.pdf\n",
    " *              provided along with the code example for more details.\n",
    " *\n",
    " * Features demonstrated:\n",
    " *              ePDS and HID-Off functionality with BLE advertisements (ADV) and\n",
    " *              connection.\n",
    " *\n",
    " *\n",
    " *  Controls:\n",
    " *  - Start ADV with button press when not connected.\n",
    " *  - Disconnect and enter HID-Off with button press when connected.\n",
    " *  - Wake from HID-Off on button press.\n",
    " *\n",
    " *  Note: Do not connect HCI UART when running this application as it will\n",
    " *  prevent the device from entering sleep as we have configured sleep mode as\n",
    " *  WICED_SLEEP_MODE_NO_TRANSPORT (see header file wiced_sleep.h)\n",
    " ******************************************************************************/\n",
    "\n",
    "#include \"wiced.h\"\n",
    "#include \"wiced_bt_dev.h\"\n",
    "#include \"wiced_hal_gpio.h\"\n",
    "#include \"wiced_platform.h\"\n",
    "#include \"wiced_bt_trace.h\"\n",
    "#include \"wiced_bt_stack.h\"\n",
    "#include \"app_bt_cfg.h\"\n",
    "#include \"wiced_sleep.h\"\n",
    "#include \"wiced_rtc.h\"\n",
    "#include \"wiced_hal_mia.h\"\n",
    "#include \"GeneratedSource/cycfg_pins.h\"\n",
    "#include \"low_power_20819.h\"\n",
    "\n",
    "/*******************************************************************************\n",
    " *                    Macros\n",
    " ******************************************************************************/\n",
    "/* Pass 10000000 to HID-Off API to sleep for 10 seconds */\n",
    "#define HIDOFF_SLEEP_TIME 10000000\n",
    "\n",
    "/*******************************************************************************\n",
    " * Variable Definitions\n",
    " ******************************************************************************/\n",
    "\n",
    "/* sleep configuration */\n",
    "wiced_sleep_config_t    low_power_sleep_config;\n",
    "\n",
    "/*******************************************************************************\n",
    " *                  Function Prototypes\n",
    " ******************************************************************************/\n",
    "static uint32_t               low_power_sleep_handler(wiced_sleep_poll_type_t type);\n",
    "static void                   low_power_post_sleep_cb(\n",
    "                              wiced_bool_t restore_configuration);\n",
    "\n",
    "extern wiced_bt_dev_status_t  low_power_20819_bt_management_callback(\n",
    "                              wiced_bt_management_evt_t event,\n",
    "                              wiced_bt_management_evt_data_t *p_event_data);\n",
    "\n",
    "/******************************************************************************/\n",
    "\n",
    "/*******************************************************************************\n",
    " * Function Definitions\n",
    " ******************************************************************************/\n",
    "\n",
    "/*******************************************************************************\n",
    " * Function Name: application_start()\n",
    " *******************************************************************************\n",
    "* Summary: Initialize transport configuration, register BLE\n",
    "*          management event callback and configure sleep.\n",
    "*\n",
    "* Parameters:\n",
    "*   None\n",
    "*\n",
    "* Return:\n",
    "*  None\n",
    "*\n",
    "*******************************************************************************/\n",
    "void application_start(void)\n",
    "{\n",
    "    /* Following line of code is required to enable Hibernate */\n",
    "    g_foundation_config_PMUflags |= PMU_CONFIG_FLAGS_ENABLE_SDS;\n",
    "\n",
    "    wiced_sleep_wake_reason_t wake_reason = 0;\n",
    "\n",
    "    /* Set Debug UART as WICED_ROUTE_DEBUG_TO_PUART to see debug traces on\n",
    "     * Peripheral UART (PUART) */\n",
    "    wiced_set_debug_uart(WICED_ROUTE_DEBUG_TO_PUART);\n",
    "\n",
    "    WICED_BT_TRACE (\"\\r\\n==========================================================\\r\\n\\n\"\n",
    "                    \"                  Low Power 20819\\r\\n\\r\\n\"\n",
    "                    \"==========================================================\\r\\n\"\n",
    "                    \"  This application implements low power modes (ePDS and\\r\\n\"\n",
    "                    \"  HID-Off) in CYW20819\\r\\n\"\n",
    "                    \"==========================================================\\r\\n\\n\");\n",
    "\n",
    "    wake_reason = wiced_sleep_hid_off_wake_reason();\n",
    "\n",
    "    if(WICED_SLEEP_WAKE_REASON_POR == wake_reason)\n",
    "    {\n",
    "        WICED_BT_TRACE(\"Reset due to POR\\n\");\n",
    "    }\n",
    "    else if(WICED_SLEEP_WAKE_REASON_HIDOFF_TIMEOUT == wake_reason)\n",
    "    {\n",
    "        WICED_BT_TRACE(\"Reset due to timed wake from HID-Off\\n\");\n",
    "    }\n",
    "    else\n",
    "    {\n",
    "        if(wiced_hal_gpio_get_pin_interrupt_status(\n",
    "           WICED_GET_PIN_FOR_BUTTON(WICED_PLATFORM_BUTTON_1)))\n",
    "        {\n",
    "            WICED_BT_TRACE(\"Reset due to GPIO wake from HID-Off\\n\");\n",
    "        }\n",
    "        else\n",
    "        {\n",
    "            WICED_BT_TRACE(\"Reset due to other reasons\\n\");\n",
    "        }\n",
    "    }\n",
    "\n",
    "    /* Initialize Bluetooth Controller and Host Stack */\n",
    "    if(WICED_BT_SUCCESS != wiced_bt_stack_init(\n",
    "                           low_power_20819_bt_management_callback,\n",
    "                           &wiced_bt_cfg_settings,\n",
    "                           wiced_bt_cfg_buf_pools))\n",
    "    {\n",
    "        WICED_BT_TRACE(\"Bluetooth LE Stack initialization failed\\r\\n\");\n",
    "    }\n",
    "\n",
    "    /* configure to sleep if sensor is idle */\n",
    "    low_power_sleep_config.sleep_mode               = WICED_SLEEP_MODE_NO_TRANSPORT;\n",
    "    low_power_sleep_config.device_wake_mode         = WICED_SLEEP_WAKE_ACTIVE_LOW;\n",
    "    low_power_sleep_config.device_wake_source       = WICED_SLEEP_WAKE_SOURCE_GPIO;\n",
    "    low_power_sleep_config.device_wake_gpio_num     = WICED_GET_PIN_FOR_BUTTON(WICED_PLATFORM_BUTTON_1);\n",
    "    low_power_sleep_config.host_wake_mode           = WICED_SLEEP_WAKE_ACTIVE_HIGH;\n",
    "    low_power_sleep_config.sleep_permit_handler     = low_power_sleep_handler;\n",
    "    low_power_sleep_config.post_sleep_cback_handler = low_power_post_sleep_cb;\n",
    "\n",
    "    if(WICED_BT_SUCCESS != wiced_sleep_configure(&low_power_sleep_config))\n",
    "    {\n",
    "        WICED_BT_TRACE(\"Sleep Configure failed\\r\\n\");\n",
    "    }\n",
    "}\n",
    "\n",
    "/*******************************************************************************\n",
    " * Function Name: uint32_t low_power_sleep_handler(wiced_sleep_poll_type_t type)\n",
    " *******************************************************************************\n",
    " * Summary: Callback for sleep permissions.\n",
    " *\n",
    " * Parameters:\n",
    " *   wiced_sleep_poll_type_t type          : Poll type (see #wiced_sleep_poll_type_t)\n",
    " *\n",
    " * Return:\n",
    " *   uint32_t: if type == WICED_SLEEP_POLL_SLEEP_PERMISSION, application should\n",
    " *             return WICED_SLEEP_ALLOWED_WITHOUT_SHUTDOWN or\n",
    " *             WICED_SLEEP_NOT_ALLOWED. If type == WICED_SLEEP_POLL_TIME_TO_SLEEP,\n",
    " *              application should return WICED_SLEEP_MAX_TIME_TO_SLEEP\n",
    " *\n",
    " ******************************************************************************/\n",
    "uint32_t low_power_sleep_handler(wiced_sleep_poll_type_t type)\n",
    "{\n",
    "    uint32_t ret = WICED_SLEEP_NOT_ALLOWED;\n",
    "\n",
    "    switch(type)\n",
    "    {\n",
    "        case WICED_SLEEP_POLL_SLEEP_PERMISSION:\n",
    "            if(HIDOFF == low_power_20819_current_state)\n",
    "            {\n",
    "                /* This allows the device to enter HID-Off */\n",
    "                ret = WICED_SLEEP_ALLOWED_WITH_SHUTDOWN;\n",
    "\n",
    "            }\n",
    "            else\n",
    "            {\n",
    "                /* This allows the device to enter ePDS */\n",
    "                ret = WICED_SLEEP_ALLOWED_WITHOUT_SHUTDOWN;\n",
    "\n",
    "            }\n",
    "            break;\n",
    "        case WICED_SLEEP_POLL_TIME_TO_SLEEP:\n",
    "            if(HIDOFF == low_power_20819_current_state)\n",
    "            {\n",
    "                ret = HIDOFF_SLEEP_TIME;\n",
    "            }\n",
    "            else\n",
    "            {\n",
    "                ret = WICED_SLEEP_MAX_TIME_TO_SLEEP;\n",
    "            }\n",
    "            break;\n",
    "    }\n",
    "    return ret;\n",
    "}\n",
    "\n",
    "/*******************************************************************************\n",
    " * Function Name: void low_power_post_sleep_cb(wiced_bool_t\n",
    " *                                                        restore_configuration)\n",
    " *******************************************************************************\n",
    " * Summary: Callback for post sleep initialization.\n",
    " *\n",
    " * Parameters:\n",
    " *   wiced_bool_t restore_configuration      : Tells whether the user needs to\n",
    " *                                              restore the configurations or not\n",
    " *\n",
    " * Return:\n",
    " *   None\n",
    " *\n",
    " ******************************************************************************/\n",
    "void low_power_post_sleep_cb(wiced_bool_t restore_configuration)\n",
    "{\n",
    "    /* Not doing anything in this function right now. But it can be used to\n",
    "       initialize peripherals such as I2C and SPI upon wakeup from ePDS */\n",
    "    if(restore_configuration)\n",
    "    {\n",
    "        /* Add code to re-initialize peripherals */\n",
    "    }\n",
    "}'''"
   ]
  },
  {
   "cell_type": "code",
   "execution_count": 127,
   "metadata": {},
   "outputs": [],
   "source": [
    "verbose=True\n",
    "chain = doc_prompt | llm\n",
    "ans = chain.invoke([]\n",
    "    \"query\": '''Group: Home/Forums/WirelessConnectivity/AIROC Bluetooth\n",
    "Topic: cybt-213043-02 not entering sleep mode\n",
    "Hi,\n",
    "I am using cybt-213043-02 eval board. I am running https://github.com/Infineon/mtb-example-btsdk-low-power-20819 example with a tweak that changes the eval board to cybt-213043-eval.\n",
    "I can see the output on the PUART when I press the user button and the ble works ok.\n",
    "However the board never enters sleep mode. I see a constant ~2.5mA usage and the sleep permit handler is never called. Also sleep callback is never called.\n",
    "The HOST_WAKE and DEV_WAKE pins are floating. I have tried tying them to either VCC or GND without effect. Is there some additional configuration or hw requirement to trigger sleep mode.\n",
    "Thank you for response.''',\n",
    "    \"context\": low_power_as_context\n",
    "    })"
   ]
  },
  {
   "cell_type": "code",
   "execution_count": 129,
   "metadata": {},
   "outputs": [
    {
     "ename": "TypeError",
     "evalue": "PromptTemplate.format() takes 1 positional argument but 2 were given",
     "output_type": "error",
     "traceback": [
      "\u001b[0;31m---------------------------------------------------------------------------\u001b[0m",
      "\u001b[0;31mTypeError\u001b[0m                                 Traceback (most recent call last)",
      "Cell \u001b[0;32mIn[129], line 1\u001b[0m\n\u001b[0;32m----> 1\u001b[0m doc_prompt\u001b[39m.\u001b[39;49mformat([\u001b[39m'\u001b[39;49m\u001b[39mhi\u001b[39;49m\u001b[39m'\u001b[39;49m,\u001b[39m'\u001b[39;49m\u001b[39mhello\u001b[39;49m\u001b[39m'\u001b[39;49m])\n",
      "\u001b[0;31mTypeError\u001b[0m: PromptTemplate.format() takes 1 positional argument but 2 were given"
     ]
    }
   ],
   "source": [
    "doc_prompt.format({})"
   ]
  },
  {
   "cell_type": "code",
   "execution_count": 110,
   "metadata": {},
   "outputs": [
    {
     "data": {
      "text/plain": [
       "'Based on the provided context, it seems that the example you are using is designed to demonstrate low power modes, including ePDS and HID-Off, with the CYW20819. However, you are experiencing issues with the CYBT-213043-02 eval board not entering sleep mode.\\n\\nHere are a few suggestions to troubleshoot and potentially resolve the issue:\\n\\n1. **Check Sleep Configuration**: Ensure that the sleep configuration is correctly set up in your code. The `low_power_sleep_config` structure should be properly initialized with the correct sleep mode, wake sources, and handlers.\\n\\n2. **Verify Button Configuration**: Make sure that the button you are using to trigger sleep is correctly configured in the code. The pin number for the button should match the one on your eval board.\\n\\n3. **Check Wake Pins**: The HOST_WAKE and DEV_WAKE pins should be configured correctly. If they are floating, it might cause issues. Ensure they are set up as per the requirements of your application.\\n\\n4. **Debugging**: Add debug traces in the `low_power_sleep_handler` and `low_power_post_sleep_cb` functions to see if they are being called and what values are being returned. This might give you insights into why the device is not entering sleep mode.\\n\\n5. **Hardware Configuration**: Double-check the hardware configuration of your eval board. Ensure that all necessary connections are made and that there are no hardware issues preventing the board from entering sleep mode.\\n\\n6. **Consult Documentation**: Refer to the CE document CE225540_CYW20819_Low_Power.pdf mentioned in the context for more detailed information on configuring and troubleshooting low power modes.\\n\\nIf these steps do not resolve the issue, it might be helpful to consult the Infineon forums or support for more specific guidance related to the CYBT-213043-02 eval board.'"
      ]
     },
     "execution_count": 110,
     "metadata": {},
     "output_type": "execute_result"
    }
   ],
   "source": [
    "ans.content"
   ]
  },
  {
   "attachments": {},
   "cell_type": "markdown",
   "metadata": {},
   "source": [
    "# check if pdf answers the question "
   ]
  },
  {
   "cell_type": "code",
   "execution_count": 112,
   "metadata": {},
   "outputs": [
    {
     "name": "stdout",
     "output_type": "stream",
     "text": [
      "Started parsing the file under job_id a691c9f1-92c3-4fb9-83ae-233523b10ace\n",
      "32\n"
     ]
    }
   ],
   "source": [
    "from llama_parse import LlamaParse\n",
    "from llama_index.core import SimpleDirectoryReader\n",
    "os.environ['LLAMA_CLOUD_API_KEY'] = 'llx-bJs9Ppk0LMI1AIp1X4r04g7pBne4X1AH8DBMwwiVSrJCfPUb'\n",
    "parser = LlamaParse(\n",
    "    result_type=\"text\"  # \"markdown\" and \"text\" are available\n",
    ")\n",
    "\n",
    "file_extractor = {\".pdf\": parser}\n",
    "pdf_documents = SimpleDirectoryReader(input_files=['./Infineon-AN226546_CYW20819_Feature_and_Peripheral_Guide-ApplicationNotes-v04_00-EN.pdf'], file_extractor=file_extractor).load_data()\n",
    "print(len(pdf_documents))"
   ]
  },
  {
   "cell_type": "code",
   "execution_count": 115,
   "metadata": {},
   "outputs": [],
   "source": [
    "updated_docs_pdf = []\n",
    "\n",
    "for document in pdf_documents:\n",
    "    # Create a new Document instance with the updated attributes\n",
    "    updated_document = Document(\n",
    "        metadata=document.metadata,  # Keep metadata the same\n",
    "        page_content=document.text,  # Change text to page_content\n",
    "    )\n",
    "    updated_docs_pdf.append(updated_document)"
   ]
  },
  {
   "cell_type": "code",
   "execution_count": 116,
   "metadata": {},
   "outputs": [],
   "source": [
    "chunks_pdf = []\n",
    "for doc in updated_docs_pdf:\n",
    "\n",
    "    text_splitter = TokenTextSplitter(chunk_size=400, chunk_overlap=80)\n",
    "    content = text_splitter.split_text(doc.page_content)\n",
    "    for chunk in content:\n",
    "        chunks_pdf.append(\n",
    "            Document(\n",
    "                metadata=doc.metadata,\n",
    "                page_content = chunk\n",
    "            ),\n",
    "            \n",
    "        )"
   ]
  },
  {
   "cell_type": "code",
   "execution_count": 117,
   "metadata": {},
   "outputs": [],
   "source": [
    "uuids_pdf = [str(uuid4()) for doc in chunks_pdf]"
   ]
  },
  {
   "cell_type": "code",
   "execution_count": null,
   "metadata": {},
   "outputs": [],
   "source": [
    "vector_store.add_documents(documents=chunks_pdf, ids=uuids_pdf)"
   ]
  },
  {
   "cell_type": "code",
   "execution_count": 212,
   "metadata": {},
   "outputs": [],
   "source": [
    "results = vector_store.similarity_search(\n",
    "    '''Group: Home/Forums/WirelessConnectivity/AIROC Bluetooth\n",
    "Topic: cybt-213043-02 not entering sleep mode\n",
    "Hi,\n",
    "I am using cybt-213043-02 eval board. I am running https://github.com/Infineon/mtb-example-btsdk-low-power-20819 example with a tweak that changes the eval board to cybt-213043-eval.\n",
    "I can see the output on the PUART when I press the user button and the ble works ok.\n",
    "However the board never enters sleep mode. I see a constant ~2.5mA usage and the sleep permit handler is never called. Also sleep callback is never called.\n",
    "The HOST_WAKE and DEV_WAKE pins are floating. I have tried tying them to either VCC or GND without effect. Is there some additional configuration or hw requirement to trigger sleep mode.\n",
    "Thank you for response.''',\n",
    "    k=5,\n",
    "    filter={\"repo\":\"mtb-example-btsdk-low-power-20819\"}\n",
    ")"
   ]
  },
  {
   "cell_type": "code",
   "execution_count": 213,
   "metadata": {},
   "outputs": [
    {
     "data": {
      "text/plain": [
       "[{'file_name': 'README.md',\n",
       "  'file_path': 'README.md',\n",
       "  'folder': '',\n",
       "  'repo': 'mtb-example-btsdk-low-power-20819',\n",
       "  'url': 'https://github.com/Infineon/mtb-example-btsdk-low-power-20819/blob/master/README.md'},\n",
       " {'file_name': 'low_power_20819.c',\n",
       "  'file_path': 'low_power_20819.c',\n",
       "  'folder': '',\n",
       "  'repo': 'mtb-example-btsdk-low-power-20819',\n",
       "  'url': 'https://github.com/Infineon/mtb-example-btsdk-low-power-20819/blob/master/low_power_20819.c'},\n",
       " {'file_name': 'low_power_20819_ble.c',\n",
       "  'file_path': 'low_power_20819_ble.c',\n",
       "  'folder': '',\n",
       "  'repo': 'mtb-example-btsdk-low-power-20819',\n",
       "  'url': 'https://github.com/Infineon/mtb-example-btsdk-low-power-20819/blob/master/low_power_20819_ble.c'},\n",
       " {'file_name': 'TARGET_CYW920820M2EVB-01.mtb',\n",
       "  'file_path': 'deps/TARGET_CYW920820M2EVB-01.mtb',\n",
       "  'folder': 'mtb-example-btsdk-low-power-20819/deps',\n",
       "  'repo': 'mtb-example-btsdk-low-power-20819',\n",
       "  'url': 'https://github.com/Infineon/mtb-example-btsdk-low-power-20819/blob/master/deps/TARGET_CYW920820M2EVB-01.mtb'},\n",
       " {'file_name': 'low_power_20819.h',\n",
       "  'file_path': 'low_power_20819.h',\n",
       "  'folder': '',\n",
       "  'repo': 'mtb-example-btsdk-low-power-20819',\n",
       "  'url': 'https://github.com/Infineon/mtb-example-btsdk-low-power-20819/blob/master/low_power_20819.h'}]"
      ]
     },
     "execution_count": 213,
     "metadata": {},
     "output_type": "execute_result"
    }
   ],
   "source": [
    "[result.metadata for result in results]"
   ]
  },
  {
   "cell_type": "code",
   "execution_count": 123,
   "metadata": {},
   "outputs": [
    {
     "name": "stdout",
     "output_type": "stream",
     "text": [
      "infineon.com/cms/en/product/wireless-connectivity/airoc-bluetooth-le-bluetooth-multiprotocol/cyw20820/)\n",
      "\n",
      "## Supported toolchains (make variable 'TOOLCHAIN')\n",
      "\n",
      "- GNU Arm® Embedded Compiler v10.3.1 (`GCC_ARM`) - Default value of `TOOLCHAIN`\n",
      "\n",
      "## Supported kits (make variable 'TARGET')\n",
      "- [CYW920820M2EVB-01 evaluation kit](http://www.infineon.com/cyw920820m2evb-01) (`CYW920820M2EVB-01`) - Default value of `TARGET`\n",
      "- [CYW920819M2EVB-01 evaluation kit](http://www.infineon.com/cyw920819m2evb-01) (`CYW920819M2EVB-01`)\n",
      "\n",
      "## Hardware setup\n",
      "\n",
      "This example uses the board's default configuration. See the kit user guide to ensure that the board is configured correctly.\n",
      "\n",
      "## Software setup\n",
      "\n",
      "This code example consists of two parts: a client and a server. For the client, download and install the LightBlue Connect App for [iOS](https://apps.apple.com/us/app/lightblue/id557428110) or [Android](https://play.google.com/store/apps/details?id=com.punchthrough.lightblueexplorer&gl=US).\n",
      "\n",
      "Scan the following QR codes from your mobile phone to download the LightBlue Connect App.\n",
      "\n",
      "![](./images/qr.png)\n",
      "\n",
      "Install a terminal emulator if you don't have one. Instructions in this document use [Tera term](\n",
      "\n",
      "\n",
      "\n",
      "-ble) - Bluetooth® and Bluetooth® LE host applications\n",
      "<br>\n",
      "\n",
      "\n",
      "## Other resources\n",
      "\n",
      "Infineon provides a wealth of data at www.infineon.com to help you select the right device, and quickly and effectively integrate it into your design.\n",
      "\n",
      "## Document history\n",
      "\n",
      "Document title: CE236664 - *CYW20819/CYW20820* – *BTSDK low power*\n",
      "\n",
      " Version | Description of change\n",
      " ------- | ---------------------\n",
      " 1.0.0   | New code example\n",
      "---------------------------------------------------------\n",
      "\n",
      "© Cypress Semiconductor Corporation, 2022. This document is the property of Cypress Semiconductor Corporation, an Infineon Technologies company, and its affiliates (\"Cypress\").  This document, including any software or firmware included or referenced in this document (\"Software\"), is owned by Cypress under the intellectual property laws and treaties of the United States and other countries worldwide.  Cypress reserves all rights under such laws and treaties and does not, except as specifically stated in this paragraph, grant any license under its patents, copyrights, trademarks, or other intellectual property rights.  If the Software is not accompanied by a license agreement and you do not otherwise have a written agreement with Cypress governing the use of the Software, then Cypress hereby grants you a personal, non-exclusive, nontransferable license (without the right to sublicense) (1) under its copyright rights in the Software (a) for Software provided in source code form, to modify and reproduce the Software solely for use with Cypress hardware products, only internally within your organization, and (b) to distribute the Software in binary code form externally to end users (either directly or indirectly through resellers and distributors), solely for use on Cypress hardware product units, and (2) under those claims of Cypress’s patents that are infringed by the Software (as provided by Cyp\n",
      "\n",
      "\n",
      "\n",
      "_WAKE, and four BT_GPIOs are the Arm GPIOs available in the CYW20819A1KFB1G package, whereas\n",
      "   DEV_WAKE and HOST_WAKE are the Arm GPIOs available in the CYW20819A1KFBG package. The DEV_WAKE\n",
      "   can be used to wake the Bluetooth® device with a signal from the host. The HOST_WAKE signal can be used\n",
      "   to wake the host device with a signal from the Bluetooth® device. BT_GPIOs can be configured as a GCI\n",
      "   (Global Co-existence Interface) pin.\n",
      "CYW20819/CYW20820 supports the following GPIO capabilities in Bluetooth® SDK:\n",
      "• Input/Output selection\n",
      "• Pull-up/Pull-down selection\n",
      "• Drive strength selection\n",
      "• Hysteresis control\n",
      "• Level/Edge triggered interrupt selection\n",
      "The following are some of the most commonly used GPIO APIs and their descriptions:\n",
      "• The wiced_hal_gpio_configure_pin() API is used to configure the GPIO capabilities on a specific\n",
      "   GPIO.s\n",
      "• The wiced_hal_gpio_register_pin_for_interrupt() can be used to register an interrupt for\n",
      "   GPIOs and based on edge or level changes it will trigger the callback function (i.e., interrupt service routine\n",
      "   or interrupt handler).\n",
      "• The wiced_hal_gpio_clear_pin_interrupt_status() should be used to clear the interrupt in\n",
      "   the GPIO interrupt callback function.\n",
      "\n",
      "Application Note                                                 6 of\n",
      "\n",
      "\n",
      "\n",
      "iced_bt_cfg.c' */\n",
      "        wiced_bt_start_advertisements(BTM_BLE_ADVERT_UNDIRECTED_LOW, 0, NULL);\n",
      "\n",
      "        low_power_20819_current_state = SLEEP_WITH_ADV;\n",
      "        break;\n",
      "\n",
      "    case SLEEP_WITH_CONNECTION:\n",
      "\n",
      "        /* If the device is in connection, disconnect and got to HID-Off */\n",
      "        /* Disconnect */\n",
      "        disconnect_status = wiced_bt_gatt_disconnect(low_power_20819_conn_id);\n",
      "\n",
      "        if(WICED_BT_GATT_SUCCESS == disconnect_status)\n",
      "        {\n",
      "            WICED_BT_TRACE(\"Disconnecting\\n\\r\");\n",
      "        }\n",
      "        break;\n",
      "    default:\n",
      "        break;\n",
      "    }\n",
      "}\n",
      "\n",
      "\n",
      "\n",
      "\n",
      "CYW20819/CYW20820 feature and peripheral guide\n",
      "\n",
      "Software\n",
      "\n",
      "6.5.3               Recovery process\n",
      "Sometimes, the CYW20819/CYW20820 device may enter an unknown state or the HCI baud rate might have\n",
      "been changed from default. In such cases, it is not possible to program the device using HCI UART. To program\n",
      "the device correctly, the device needs to be put into the recovery mode. This is done by asserting the HCI UART\n",
      "CTS line while resetting the device.\n",
      "When the Bluetooth® device is reset, it checks for status of the HCI UART CTS pin (recovery pin) during power-\n",
      "ON. If the recovery pin is asserted (LOW) during reset, then the device enters what is called recovery mode. This\n",
      "mode will attempt to detect the UART baud rate by checking the RX line for the bit pattern of an HCI_RESET\n",
      "command. When detected, the HCI_RESET response is given at the same baud rate.\n",
      "In this mode, most of the HCI commands will have no response. To download to the device in this mode, ignore\n",
      "the ‘no response’ to HCI_DOWNLOAD_MINIDRIVER and proceed with the download procedures. If the CTS pin is\n",
      "high after reset, then the device will check the OCF and apply any stored configuration, typically ending in a\n",
      "mode ready to accept all HCI commands at a default baud rate. If no configuration is available, the device will\n",
      "enter autobaud mode. Note that the application code can be directly loaded to the SRAM and executed or to\n",
      "the serial flash and then executed on next boot up.\n",
      "\n",
      "6.5.4           \n",
      "\n",
      "\n",
      "\n"
     ]
    }
   ],
   "source": [
    "for i in results:\n",
    "    print(i[0].page_content)\n",
    "    print()\n",
    "    print()\n",
    "    print()"
   ]
  },
  {
   "cell_type": "code",
   "execution_count": 120,
   "metadata": {},
   "outputs": [],
   "source": [
    "chain = doc_prompt | llm\n",
    "ans = chain.invoke({\n",
    "    \"query\": '''Group: Home/Forums/WirelessConnectivity/AIROC Bluetooth\n",
    "Topic: cybt-213043-02 not entering sleep mode\n",
    "Hi,\n",
    "I am using cybt-213043-02 eval board. I am running https://github.com/Infineon/mtb-example-btsdk-low-power-20819 example with a tweak that changes the eval board to cybt-213043-eval.\n",
    "I can see the output on the PUART when I press the user button and the ble works ok.\n",
    "However the board never enters sleep mode. I see a constant ~2.5mA usage and the sleep permit handler is never called. Also sleep callback is never called.\n",
    "The HOST_WAKE and DEV_WAKE pins are floating. I have tried tying them to either VCC or GND without effect. Is there some additional configuration or hw requirement to trigger sleep mode.\n",
    "Thank you for response.''',\n",
    "    \"context\": results\n",
    "    })"
   ]
  },
  {
   "cell_type": "code",
   "execution_count": 121,
   "metadata": {},
   "outputs": [
    {
     "data": {
      "text/plain": [
       "\"I don't have specific information about the CYBT-213043-02 evaluation board or its sleep mode configuration from the provided documents. However, based on the context of the CYW20819/CYW20820, here are a few general suggestions that might help:\\n\\n1. **Check GPIO Configuration**: Ensure that the GPIOs, especially HOST_WAKE and DEV_WAKE, are configured correctly. These pins are used for waking the Bluetooth device and the host device, respectively. Incorrect configuration might prevent the device from entering sleep mode.\\n\\n2. **Review Power Management Settings**: Verify that the power management settings in your application are correctly configured to allow the device to enter sleep mode. This might involve checking the sleep permit handler and ensuring it is set up to allow sleep.\\n\\n3. **Interrupts and Callbacks**: Make sure that any interrupts or callbacks related to sleep mode are correctly implemented and not inadvertently preventing sleep.\\n\\n4. **Hardware Connections**: Double-check all hardware connections and ensure that there are no floating pins that should be tied to a specific voltage level.\\n\\n5. **Consult Documentation**: Refer to the specific documentation for the CYBT-213043-02 evaluation board for any additional hardware requirements or configurations needed for sleep mode.\\n\\nIf these suggestions do not resolve the issue, it might be helpful to consult the specific documentation for the CYBT-213043-02 or reach out to Infineon's support for more detailed assistance.\""
      ]
     },
     "execution_count": 121,
     "metadata": {},
     "output_type": "execute_result"
    }
   ],
   "source": [
    "ans.content"
   ]
  },
  {
   "attachments": {},
   "cell_type": "markdown",
   "metadata": {},
   "source": [
    "# Rough"
   ]
  },
  {
   "cell_type": "code",
   "execution_count": 135,
   "metadata": {},
   "outputs": [
    {
     "name": "stdout",
     "output_type": "stream",
     "text": [
      "[1, 2, 3, 4, 5, 6, 7, 8, 9]\n"
     ]
    }
   ],
   "source": [
    "import ast\n",
    "import re\n",
    "# Given string\n",
    "response = \"this is the answer: [1,2,3,4,5,6,7,8,9]\"\n",
    "\n",
    "# Use regex to find the list within brackets\n",
    "match = re.search(r'\\[(.*?)\\]', response)\n",
    "\n",
    "if match:\n",
    "    # Extract the content inside the brackets\n",
    "    list_string = match.group(0)  # This gets the whole match including brackets\n",
    "    # Convert the string representation of the list to an actual list safely\n",
    "    result_list = ast.literal_eval(list_string)\n",
    "    print(result_list)  # Output: [1, 2, 3, 4, 5, 6, 7, 8, 9]\n",
    "else:\n",
    "    print(\"No list found\")\n"
   ]
  },
  {
   "cell_type": "code",
   "execution_count": 146,
   "metadata": {},
   "outputs": [
    {
     "data": {
      "text/plain": [
       "[Document(id='146dadb3-a0df-4032-a3a5-2d1b2a4c7df7', metadata={'creation_date': '2024-10-12', 'file_name': 'Infineon-AN226546_CYW20819_Feature_and_Peripheral_Guide-ApplicationNotes-v04_00-EN.pdf', 'file_path': 'Infineon-AN226546_CYW20819_Feature_and_Peripheral_Guide-ApplicationNotes-v04_00-EN.pdf', 'file_size': 940024.0, 'file_type': 'application/pdf', 'last_modified_date': '2024-10-12'}, page_content='C\\n                                                                                                                    2022-08-03'),\n",
       " Document(id='cc45effb-be4a-4478-9f17-4df9bb8026ce', metadata={'creation_date': '2024-10-12', 'file_name': 'Infineon-AN226546_CYW20819_Feature_and_Peripheral_Guide-ApplicationNotes-v04_00-EN.pdf', 'file_path': 'Infineon-AN226546_CYW20819_Feature_and_Peripheral_Guide-ApplicationNotes-v04_00-EN.pdf', 'file_size': 940024.0, 'file_type': 'application/pdf', 'last_modified_date': '2024-10-12'}, page_content='\\n                                                                                                                           2022-08-03'),\n",
       " Document(id='935b65a2-bfcc-4d68-9c2e-fdd56ffa85c4', metadata={'creation_date': '2024-10-12', 'file_name': 'Infineon-AN226546_CYW20819_Feature_and_Peripheral_Guide-ApplicationNotes-v04_00-EN.pdf', 'file_path': 'Infineon-AN226546_CYW20819_Feature_and_Peripheral_Guide-ApplicationNotes-v04_00-EN.pdf', 'file_size': 940024.0, 'file_type': 'application/pdf', 'last_modified_date': '2024-10-12'}, page_content='                          14 of 32                                            002-26546 Rev. *C\\n                                                                                                                             2022-08-03'),\n",
       " Document(id='f1b13ce5-e40f-48b9-b5d1-5e6c3ab3d9ac', metadata={'creation_date': '2024-10-12', 'file_name': 'Infineon-AN226546_CYW20819_Feature_and_Peripheral_Guide-ApplicationNotes-v04_00-EN.pdf', 'file_path': 'Infineon-AN226546_CYW20819_Feature_and_Peripheral_Guide-ApplicationNotes-v04_00-EN.pdf', 'file_size': 940024.0, 'file_type': 'application/pdf', 'last_modified_date': '2024-10-12'}, page_content='           (BRIEDR               CTT\\n                                                Pairing /ol            Connecl                                    mud: Unmiuq\\n                                                                                  Sendkel              LapS LCD\\n                                         Entomunt Cnanno       Fnrut                                                              Gond Recart\\n                                      04-'),\n",
       " Document(id='4e5fe25b-ecd1-4a51-bab2-66e7d96b363a', metadata={'creation_date': '2024-10-12', 'file_name': 'Infineon-AN226546_CYW20819_Feature_and_Peripheral_Guide-ApplicationNotes-v04_00-EN.pdf', 'file_path': 'Infineon-AN226546_CYW20819_Feature_and_Peripheral_Guide-ApplicationNotes-v04_00-EN.pdf', 'file_size': 940024.0, 'file_type': 'application/pdf', 'last_modified_date': '2024-10-12'}, page_content='CYW20819/CYW20820 feature and peripheral guide\\n\\nSoftware\\n                                        WICED Client Control\\n                                        Open Poi          (US8 Senal Port)                               Fow Corirol     Palr-ab 2 L Discoxerab 2   Ccnnectahle   Reset Deace\\n                                                                                                 Unbono                                                               3rouse\\n                                        BR/ECR Discovery       '),\n",
       " Document(id='a901b267-0c9a-4a5e-b796-b49fc07645ac', metadata={'creation_date': '2024-10-12', 'file_name': 'Infineon-AN226546_CYW20819_Feature_and_Peripheral_Guide-ApplicationNotes-v04_00-EN.pdf', 'file_path': 'Infineon-AN226546_CYW20819_Feature_and_Peripheral_Guide-ApplicationNotes-v04_00-EN.pdf', 'file_size': 940024.0, 'file_type': 'application/pdf', 'last_modified_date': '2024-10-12'}, page_content='           GPIO x22                                    SPI/Quad\\nFigure 1        Block diagram of CYW20819/CYW20820 Bluetooth® SoC\\n\\n\\n\\n\\nBluetooth subsystem\\n              BR/ EDR\\n           Bluetooth\" LE\\n               Mbps\\n             MAC, PHY\\n            ROM (1 MB)\\n\\n\\n\\n                  Applications\\n\\n                  Bluetooth\"\\n                  Interna bus /IP\\n\\n\\n            Application Note                                                      5 of 32         002-26546 Rev. *C\\n                                                                                 '),\n",
       " Document(id='eca5ec43-d4eb-487c-8d9d-38642c4b4fd4', metadata={'file_name': 'LICENSE', 'file_path': 'LICENSE', 'url': 'https://github.com/Infineon/mtb-example-btsdk-low-power-20819/blob/master/LICENSE'}, page_content=\"BOVE-STATED\\nWARRANTY FAILS OF ITS ESSENTIAL PURPOSE.  BECAUSE SOME STATES OR JURISDICTIONS\\nDO NOT ALLOW LIMITATION OR EXCLUSION OF CONSEQUENTIAL OR INCIDENTAL DAMAGES,\\nALL OR PORTIONS OF THE ABOVE LIMITATION MAY NOT APPLY TO YOU.\\n\\n10. Restricted Rights.  The Software is commercial computer software as that\\nterm is described in 48 C.F.R. 252.227-7014(a)(1).  If the Software is being\\nacquired by or on behalf of the U.S. Government or by a U.S. Government prime\\ncontractor or subcontractor (at any tier), then the Government's rights in\\nSoftware shall be only those set forth in this Agreement.\\n\\n11. Personal Information.  You agree that information you provide through your\\nregistration on Cypress IoT Community Forum or other Cypress websites,\\nincluding contact information or other personal information, may be collected\\nand used by Cypress consistent with its Data Privacy Policy\\n(https://www.infineon.com/cms/en/about-infineon/privacy-policy/), as updated\\nor revised from time to time, and may be provided to its third party sales\\nrepresentatives, distributors and other entities conducting sales activities\\nfor Cypress for sales-related and other business purposes.\\n\\n12. General.  This Agreement will bind and inure to the benefit of each\\nparty's successors and assigns, provided that you may not assign or transfer\\nthis Agreement, in whole or in part, without Cypress' written consent.  This\\nAgreement shall be governed by and construed in accordance with the laws of\\nthe State of California, United States of America, as if performed wholly\\nwithin the state and without giving effect to the principles of conflict\"),\n",
       " Document(id='c8011f1b-7b14-4b23-9f14-afb5f7a5d197', metadata={'creation_date': '2024-10-12', 'file_name': 'Infineon-AN226546_CYW20819_Feature_and_Peripheral_Guide-ApplicationNotes-v04_00-EN.pdf', 'file_path': 'Infineon-AN226546_CYW20819_Feature_and_Peripheral_Guide-ApplicationNotes-v04_00-EN.pdf', 'file_size': 940024.0, 'file_type': 'application/pdf', 'last_modified_date': '2024-10-12'}, page_content='                                                                                                      2022-08-03'),\n",
       " Document(id='40cd5b52-9ed4-464c-a03b-dc6bc9726287', metadata={'file_name': 'app_bt_cfg.c', 'file_path': 'app_bt_cfg.c', 'url': 'https://github.com/Infineon/mtb-example-btsdk-low-power-20819/blob/master/app_bt_cfg.c'}, page_content='e) */\\n        .client_max_links               = 0,                                                           /**< Client config: maximum number of servers that local client can connect to  */\\n        .server_max_links               = 1,                                                           /**< Server config: maximum number of remote clients connections allowed by the local */\\n        .max_attr_len                   = 512,                                                          /**< Maximum attribute length; gki_cfg must have a corresponding buffer pool that can hold this length */\\n#if !defined(CYW20706A2)\\n        .max_mtu_size                   = 517                      '),\n",
       " Document(id='4a8a830a-065e-4891-81dd-85a7884b7951', metadata={'creation_date': '2024-10-12', 'file_name': 'Infineon-AN226546_CYW20819_Feature_and_Peripheral_Guide-ApplicationNotes-v04_00-EN.pdf', 'file_path': 'Infineon-AN226546_CYW20819_Feature_and_Peripheral_Guide-ApplicationNotes-v04_00-EN.pdf', 'file_size': 940024.0, 'file_type': 'application/pdf', 'last_modified_date': '2024-10-12'}, page_content='                                                                                                        2022-08-03')]"
      ]
     },
     "execution_count": 146,
     "metadata": {},
     "output_type": "execute_result"
    }
   ],
   "source": [
    "vector_store.similarity_search(\"GIOP\", filter={}, k=10)"
   ]
  },
  {
   "cell_type": "code",
   "execution_count": 153,
   "metadata": {},
   "outputs": [
    {
     "name": "stdout",
     "output_type": "stream",
     "text": [
      "{'file_path': '.gitignore', 'file_name': '.gitignore', 'url': 'https://github.com/Infineon/mtb-example-btsdk-low-power-20819/blob/master/.gitignore', 'repo': 'mtb-example-btsdk-low-power-20819', 'folder': ''}\n",
      "{'file_path': 'LICENSE', 'file_name': 'LICENSE', 'url': 'https://github.com/Infineon/mtb-example-btsdk-low-power-20819/blob/master/LICENSE', 'repo': 'mtb-example-btsdk-low-power-20819', 'folder': ''}\n",
      "{'file_path': 'Makefile', 'file_name': 'Makefile', 'url': 'https://github.com/Infineon/mtb-example-btsdk-low-power-20819/blob/master/Makefile', 'repo': 'mtb-example-btsdk-low-power-20819', 'folder': ''}\n",
      "{'file_path': 'README.md', 'file_name': 'README.md', 'url': 'https://github.com/Infineon/mtb-example-btsdk-low-power-20819/blob/master/README.md', 'repo': 'mtb-example-btsdk-low-power-20819', 'folder': ''}\n",
      "{'file_path': 'app_bt_cfg.c', 'file_name': 'app_bt_cfg.c', 'url': 'https://github.com/Infineon/mtb-example-btsdk-low-power-20819/blob/master/app_bt_cfg.c', 'repo': 'mtb-example-btsdk-low-power-20819', 'folder': ''}\n",
      "{'file_path': 'app_bt_cfg.h', 'file_name': 'app_bt_cfg.h', 'url': 'https://github.com/Infineon/mtb-example-btsdk-low-power-20819/blob/master/app_bt_cfg.h', 'repo': 'mtb-example-btsdk-low-power-20819', 'folder': ''}\n",
      "{'file_path': 'cycfg_bt.cybt', 'file_name': 'cycfg_bt.cybt', 'url': 'https://github.com/Infineon/mtb-example-btsdk-low-power-20819/blob/master/cycfg_bt.cybt', 'repo': 'mtb-example-btsdk-low-power-20819', 'folder': ''}\n",
      "{'file_path': 'deps/TARGET_CYW920820M2EVB-01.mtb', 'file_name': 'TARGET_CYW920820M2EVB-01.mtb', 'url': 'https://github.com/Infineon/mtb-example-btsdk-low-power-20819/blob/master/deps/TARGET_CYW920820M2EVB-01.mtb', 'repo': 'mtb-example-btsdk-low-power-20819', 'folder': 'deps'}\n",
      "{'file_path': 'low_power_20819.c', 'file_name': 'low_power_20819.c', 'url': 'https://github.com/Infineon/mtb-example-btsdk-low-power-20819/blob/master/low_power_20819.c', 'repo': 'mtb-example-btsdk-low-power-20819', 'folder': ''}\n",
      "{'file_path': 'low_power_20819.h', 'file_name': 'low_power_20819.h', 'url': 'https://github.com/Infineon/mtb-example-btsdk-low-power-20819/blob/master/low_power_20819.h', 'repo': 'mtb-example-btsdk-low-power-20819', 'folder': ''}\n",
      "{'file_path': 'low_power_20819_ble.c', 'file_name': 'low_power_20819_ble.c', 'url': 'https://github.com/Infineon/mtb-example-btsdk-low-power-20819/blob/master/low_power_20819_ble.c', 'repo': 'mtb-example-btsdk-low-power-20819', 'folder': ''}\n"
     ]
    }
   ],
   "source": [
    "for doc in documents:\n",
    "    doc.metadata['repo']='mtb-example-btsdk-low-power-20819'\n",
    "    doc.metadata['folder']=doc.metadata['file_path'].split('/')[0] if '/' in doc.metadata['file_path'] else ''\n",
    "    print(doc.metadata)"
   ]
  },
  {
   "cell_type": "code",
   "execution_count": 173,
   "metadata": {},
   "outputs": [],
   "source": [
    "a=[1,2,3]\n",
    "a.append(4)"
   ]
  },
  {
   "cell_type": "code",
   "execution_count": 179,
   "metadata": {},
   "outputs": [
    {
     "name": "stdout",
     "output_type": "stream",
     "text": [
      "0.8565048875\n",
      "0.8558888735\n",
      "0.8557799755\n",
      "0.85563311\n"
     ]
    }
   ],
   "source": [
    "a = vector_store.similarity_search_with_relevance_scores(\"hi how are you\")\n",
    "for i in a:\n",
    "    print(i[1])"
   ]
  },
  {
   "cell_type": "code",
   "execution_count": 190,
   "metadata": {},
   "outputs": [
    {
     "data": {
      "text/plain": [
       "'def'"
      ]
     },
     "execution_count": 190,
     "metadata": {},
     "output_type": "execute_result"
    }
   ],
   "source": [
    "from collections import Counter\n",
    "repos = ['abc','abc','def','def','def']\n",
    "occurences = Counter(repos)\n",
    "occurences.most_common()[0][0]"
   ]
  },
  {
   "cell_type": "code",
   "execution_count": 195,
   "metadata": {},
   "outputs": [
    {
     "data": {
      "text/plain": [
       "'mtb-example-btsdk-low-power-20819'"
      ]
     },
     "execution_count": 195,
     "metadata": {},
     "output_type": "execute_result"
    }
   ],
   "source": [
    "occ = Counter({'mtb-example-btsdk-low-power-20819': 5})\n",
    "rc = occ.most_common()[0][0]\n",
    "rc"
   ]
  },
  {
   "cell_type": "code",
   "execution_count": 196,
   "metadata": {},
   "outputs": [
    {
     "data": {
      "text/plain": [
       "[('', 4)]"
      ]
     },
     "execution_count": 196,
     "metadata": {},
     "output_type": "execute_result"
    }
   ],
   "source": [
    "a=['','','','']\n",
    "a=Counter(a)\n",
    "a.most_common()"
   ]
  },
  {
   "cell_type": "code",
   "execution_count": 208,
   "metadata": {},
   "outputs": [
    {
     "data": {
      "text/plain": [
       "['./Infineon-AN226546_CYW20819_Feature_and_Peripheral_Guide-ApplicationNotes-v04_00-EN.pdf',\n",
       " './Infineon-AN226546_CYW20819_Feature_and_Peripheral_Guide-ApplicationNotes-v04_00-EN.pdf']"
      ]
     },
     "execution_count": 208,
     "metadata": {},
     "output_type": "execute_result"
    }
   ],
   "source": [
    "a = [\"Infineon-AN226546_CYW20819_Feature_and_Peripheral_Guide-ApplicationNotes-v04_00-EN\", \"Infineon-AN226546_CYW20819_Feature_and_Peripheral_Guide-ApplicationNotes-v04_00-EN\"]\n",
    "\n",
    "b=['./' + filename + '.pdf' for filename in a]\n",
    "b"
   ]
  },
  {
   "cell_type": "code",
   "execution_count": 230,
   "metadata": {},
   "outputs": [],
   "source": [
    "links = ['https://github.com/Infineon/mtb-example-btsdk-low-power-20819/blob/master/README.md', 'https://github.com/Infineon/mtb-example-btsdk-low-power-20819/blob/master/README.md', 'https://github.com/Infineon/mtb-example-btsdk-low-power-20819/blob/master/README.md', 'https://github.com/Infineon/mtb-example-btsdk-low-power-20819/blob/master/README.md', 'https://github.com/Infineon/mtb-example-btsdk-low-power-20819/blob/master/low_power_20819_ble.c']\n",
    "l = [link.replace(\"https:/github.com/\",\"https://raw.githubusercontent.com/\") for link in links]\n",
    "\n",
    "link_md = [\"https://raw.githubusercontent.com/Infineon/mtb-example-btsdk-low-power-20819/refs/heads/master/low_power_20819_ble.c\"]\n",
    "\n",
    "link_from_agent=[\"https://github.com/Infineon/mtb-example-btsdk-low-power-20819/blob/master/low_power_20819_ble.c\"]\n"
   ]
  },
  {
   "cell_type": "code",
   "execution_count": null,
   "metadata": {},
   "outputs": [],
   "source": [
    "import requests\n",
    "\n",
    "# # List of GitHub raw URLs\n",
    "# urls = [\n",
    "#     \"https://raw.githubusercontent.com/user/repository/main/file1.md\",\n",
    "#     \"https://raw.githubusercontent.com/user/repository/main/file2.c\"\n",
    "#     # Add more URLs as needed\n",
    "# ]\n",
    "\n",
    "def fetch_file_content(url):\n",
    "    response = requests.get(url)\n",
    "    if response.status_code == 200:\n",
    "        return response.text\n",
    "    else:\n",
    "        return f\"Failed to retrieve {url}, status code: {response.status_code}\"\n",
    "\n",
    "# Fetch and print content of each file\n",
    "# for url in l:\n",
    "content = fetch_file_content(link_from_agent[0].replace(\"https://github\",\"https://raw.githubusercontent\"))\n",
    "print(f\"Content from {link_from_agent[0]}:\\n{content}\\n\")\n"
   ]
  },
  {
   "cell_type": "code",
   "execution_count": 231,
   "metadata": {},
   "outputs": [
    {
     "data": {
      "text/plain": [
       "True"
      ]
     },
     "execution_count": 231,
     "metadata": {},
     "output_type": "execute_result"
    }
   ],
   "source": [
    "link_from_agent[0].replace(\"https://github\",\"https://raw.githubusercontent\").replace(\"blob\",\"refs/heads\") == link_md[0]"
   ]
  }
 ],
 "metadata": {
  "kernelspec": {
   "display_name": "rag",
   "language": "python",
   "name": "python3"
  },
  "language_info": {
   "codemirror_mode": {
    "name": "ipython",
    "version": 3
   },
   "file_extension": ".py",
   "mimetype": "text/x-python",
   "name": "python",
   "nbconvert_exporter": "python",
   "pygments_lexer": "ipython3",
   "version": "3.10.15 (main, Oct  3 2024, 02:33:33) [Clang 14.0.6 ]"
  },
  "orig_nbformat": 4,
  "vscode": {
   "interpreter": {
    "hash": "516227369de81610d7cd6bf83150c41ea4b76cacb50ce6ec44df1904018ae241"
   }
  }
 },
 "nbformat": 4,
 "nbformat_minor": 2
}
